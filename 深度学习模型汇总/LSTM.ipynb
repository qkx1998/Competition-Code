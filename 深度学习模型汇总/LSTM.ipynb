{
 "cells": [
  {
   "cell_type": "code",
   "execution_count": 3,
   "id": "96d2100a",
   "metadata": {},
   "outputs": [],
   "source": [
    "from tensorflow.keras.models import Sequential\n",
    "from tensorflow.keras.layers import Dense, Flatten, Conv2D, MaxPool2D, LSTM\n",
    "from tensorflow.keras import datasets\n",
    "import tensorflow as tf\n",
    "from tensorflow.keras import Input\n",
    "from tensorflow.keras import Model\n",
    "\n",
    "(x_train, y_train), (x_test, y_test) = datasets.mnist.load_data()"
   ]
  },
  {
   "cell_type": "code",
   "execution_count": 2,
   "id": "3cd52b34",
   "metadata": {},
   "outputs": [
    {
     "data": {
      "text/plain": [
       "(60000, 28, 28)"
      ]
     },
     "execution_count": 2,
     "metadata": {},
     "output_type": "execute_result"
    }
   ],
   "source": [
    "x_train.shape"
   ]
  },
  {
   "cell_type": "code",
   "execution_count": 12,
   "id": "c6e44868",
   "metadata": {},
   "outputs": [],
   "source": [
    "# MNIST数据集使用lstm进行预测试，可以理解为一张图片即为28*28的数据。单张图片有28条（行）数据，每条的样本为28（列）的长度。\n",
    "timesteps = 28\n",
    "data_dim = 28"
   ]
  },
  {
   "cell_type": "code",
   "execution_count": 24,
   "id": "a0c8961f",
   "metadata": {},
   "outputs": [],
   "source": [
    "model1 = Sequential([\n",
    "    LSTM(32, return_sequences=True,  input_shape=(timesteps, data_dim)),\n",
    "    LSTM(16),\n",
    "    Dense(32, 'relu'),\n",
    "    Dense(10, 'softmax')\n",
    "])"
   ]
  },
  {
   "cell_type": "code",
   "execution_count": 15,
   "id": "f8a2b8e3",
   "metadata": {},
   "outputs": [],
   "source": [
    "inputss = Input(shape=(timesteps, data_dim))\n",
    "x = LSTM(32, return_sequences=True)(inputss)\n",
    "x = LSTM(16)(x)\n",
    "x = Dense(32, 'relu')(x)\n",
    "outputs = Dense(10, 'softmax')(x)\n",
    "\n",
    "model2 = Model(inputs=inputss, outputs=outputs)"
   ]
  },
  {
   "cell_type": "code",
   "execution_count": 19,
   "id": "9c649d47",
   "metadata": {},
   "outputs": [],
   "source": [
    "# 使用 model subclassing 方法搭建网络后，提示不支持 unit8 的数据格式，需要进行类型转换才能正常运行。\n",
    "x_train = tf.cast(x_train,tf.float32)\n",
    "x_test = tf.cast(x_test,tf.float32)"
   ]
  },
  {
   "cell_type": "code",
   "execution_count": 22,
   "id": "1b25db62",
   "metadata": {},
   "outputs": [],
   "source": [
    "class MnistLSTM(tf.keras.Model):\n",
    "    def __init__(self):\n",
    "        super().__init__()\n",
    "        # 无论是sequential还是model subclassing， 用参数说明数据的输入形状都不是必须的，input_shape可要可不要\n",
    "        self.lstm1 = LSTM(32, return_sequences=True, input_shape=(28, 28))\n",
    "        self.lstm2 = LSTM(16)\n",
    "        self.dense1 = Dense(32, 'relu')\n",
    "        self.dense2 = Dense(10, 'softmax')\n",
    "    \n",
    "    def call(self, inputs):\n",
    "        x = self.lstm1(inputs)\n",
    "        x = self.lstm2(x)\n",
    "        x = self.dense1(x)\n",
    "        x = self.dense2(x)\n",
    "        return x\n",
    "    \n",
    "    \n",
    "model3 = MnistLSTM()"
   ]
  },
  {
   "cell_type": "code",
   "execution_count": 25,
   "id": "f209af7b",
   "metadata": {},
   "outputs": [
    {
     "name": "stdout",
     "output_type": "stream",
     "text": [
      "--------------------\n",
      "Epoch 1/5\n",
      "1875/1875 [==============================] - 35s 19ms/step - loss: 0.6890 - accuracy: 0.7682\n",
      "Epoch 2/5\n",
      "1875/1875 [==============================] - 35s 18ms/step - loss: 0.2999 - accuracy: 0.9057\n",
      "Epoch 3/5\n",
      "1875/1875 [==============================] - 34s 18ms/step - loss: 0.2146 - accuracy: 0.9342\n",
      "Epoch 4/5\n",
      "1875/1875 [==============================] - 34s 18ms/step - loss: 0.1690 - accuracy: 0.9473\n",
      "Epoch 5/5\n",
      "1875/1875 [==============================] - 34s 18ms/step - loss: 0.1405 - accuracy: 0.95660s - loss: 0.1405 - accuracy: 0.95\n",
      "313/313 [==============================] - 3s 10ms/step - loss: 0.1399 - accuracy: 0.9554\n"
     ]
    }
   ],
   "source": [
    "model_lst = [model1]\n",
    "for i, model in enumerate(model_lst):\n",
    "    print('-'*20)\n",
    "    model.compile(optimizer='adam', loss='sparse_categorical_crossentropy', metrics=['accuracy'])\n",
    "    model.fit(x=x_train, y=y_train, epochs=5)\n",
    "    model.evaluate(x_test, y_test)"
   ]
  },
  {
   "cell_type": "code",
   "execution_count": null,
   "id": "318b6df7",
   "metadata": {},
   "outputs": [],
   "source": []
  }
 ],
 "metadata": {
  "kernelspec": {
   "display_name": "Python 3",
   "language": "python",
   "name": "python3"
  },
  "language_info": {
   "codemirror_mode": {
    "name": "ipython",
    "version": 3
   },
   "file_extension": ".py",
   "mimetype": "text/x-python",
   "name": "python",
   "nbconvert_exporter": "python",
   "pygments_lexer": "ipython3",
   "version": "3.7.0"
  }
 },
 "nbformat": 4,
 "nbformat_minor": 5
}
