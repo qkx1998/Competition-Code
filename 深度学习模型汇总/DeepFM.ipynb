{
 "cells": [
  {
   "cell_type": "code",
   "execution_count": 1,
   "id": "219c77bc",
   "metadata": {},
   "outputs": [],
   "source": [
    "import pandas as pd\n",
    "\n",
    "# 数据链接：https://www.kaggle.com/datasets/leonerd/criteo-small\n",
    "df = pd.read_csv('train_1m.txt', sep='\\t', header=None)"
   ]
  },
  {
   "cell_type": "code",
   "execution_count": 2,
   "id": "d797e704",
   "metadata": {},
   "outputs": [],
   "source": [
    "df.columns = ['label'] + [f'I{i}' for i in range(1, 14)] + [f'C{i}' for i in range(14, 40)]"
   ]
  },
  {
   "cell_type": "code",
   "execution_count": 3,
   "id": "0e56d72e",
   "metadata": {},
   "outputs": [],
   "source": [
    "df = df.sample(n=10000).reset_index(drop=True)"
   ]
  },
  {
   "cell_type": "markdown",
   "id": "b643315c",
   "metadata": {},
   "source": [
    "数据预处理"
   ]
  },
  {
   "cell_type": "code",
   "execution_count": 4,
   "id": "18eae2ca",
   "metadata": {},
   "outputs": [],
   "source": [
    "dense_feats = [f for f in df.columns if f.startswith('I')]\n",
    "sparse_feats = [f for f in df.columns if f.startswith('C')]"
   ]
  },
  {
   "cell_type": "code",
   "execution_count": 5,
   "id": "b29dcd34",
   "metadata": {},
   "outputs": [],
   "source": [
    "import numpy as np\n",
    "from sklearn.preprocessing import LabelEncoder"
   ]
  },
  {
   "cell_type": "code",
   "execution_count": 6,
   "id": "f5b0473f",
   "metadata": {},
   "outputs": [],
   "source": [
    "def process_dense_feats(data,feats):\n",
    "    d  = data.copy()\n",
    "    d = d[feats].fillna(0.0)\n",
    "    for f in feats:\n",
    "        d[f] = d[f].apply(lambda x: np.log(x+1) if x>-1 else -1)\n",
    "    return d\n",
    "\n",
    "data_dense = process_dense_feats(df, dense_feats)\n",
    "\n",
    "def process_sparse_feats(data,feats):\n",
    "    d = data.copy()\n",
    "    d = d[feats].fillna('-1')\n",
    "    for f in feats:\n",
    "        d[f] = LabelEncoder().fit_transform(d[f])\n",
    "    return d\n",
    "\n",
    "data_sparse = process_sparse_feats(df, sparse_feats)\n",
    "\n",
    "total_data = pd.concat([data_dense,data_sparse],axis=1)\n",
    "total_data['label'] = df['label']"
   ]
  },
  {
   "cell_type": "markdown",
   "id": "e2c639c6",
   "metadata": {},
   "source": [
    "构建dense层的一阶特征"
   ]
  },
  {
   "cell_type": "code",
   "execution_count": 7,
   "id": "7b8808d7",
   "metadata": {},
   "outputs": [],
   "source": [
    "import tensorflow as tf\n",
    "from tensorflow.keras.layers import *\n",
    "import tensorflow.keras.backend as K \n",
    "from tensorflow.keras.models import Model"
   ]
  },
  {
   "cell_type": "code",
   "execution_count": 8,
   "id": "d8e1bf5a",
   "metadata": {},
   "outputs": [],
   "source": [
    "dense_inputs = []\n",
    "for f in dense_feats:\n",
    "    input_ = Input([1], name=f)\n",
    "    dense_inputs.append(input_)"
   ]
  },
  {
   "cell_type": "code",
   "execution_count": 9,
   "id": "0451bb44",
   "metadata": {},
   "outputs": [],
   "source": [
    "concat_dense_inputs = Concatenate(axis=1)(dense_inputs)"
   ]
  },
  {
   "cell_type": "code",
   "execution_count": 10,
   "id": "e41a87c4",
   "metadata": {},
   "outputs": [],
   "source": [
    "fst_order_dense_layer = Dense(1)(concat_dense_inputs)"
   ]
  },
  {
   "cell_type": "markdown",
   "id": "d67efb15",
   "metadata": {},
   "source": [
    "构建sparse层的特征"
   ]
  },
  {
   "cell_type": "code",
   "execution_count": 11,
   "id": "450da4af",
   "metadata": {},
   "outputs": [],
   "source": [
    "sparse_inputs = []\n",
    "for f in sparse_feats:\n",
    "    _input = Input([1],name=f)\n",
    "    sparse_inputs.append(_input)"
   ]
  },
  {
   "cell_type": "code",
   "execution_count": 13,
   "id": "b98f72c9",
   "metadata": {},
   "outputs": [],
   "source": [
    "sparse_ld_embed = []\n",
    "for i,_input in enumerate(sparse_inputs):\n",
    "    f = sparse_feats[i]\n",
    "    voc_size  = df[f].nunique()\n",
    "    reg = tf.keras.regularizers.l2(0.5)\n",
    "    _embed = Embedding(voc_size+1, 1, embeddings_regularizer=reg)(_input)\n",
    "    # 由于 Embedding 的结果是二维的，\n",
    "    # 因此如果需要在 Embedding 之后加入 Dense 层，则需要先连接上 Flatten 层\n",
    "    _embed = Flatten()(_embed)\n",
    "    sparse_ld_embed.append(_embed)"
   ]
  },
  {
   "cell_type": "code",
   "execution_count": 14,
   "id": "9039ea71",
   "metadata": {},
   "outputs": [],
   "source": [
    "fst_order_sparse_layer = Add()(sparse_ld_embed)"
   ]
  },
  {
   "cell_type": "markdown",
   "id": "5cbbe1eb",
   "metadata": {},
   "source": [
    "Linear 部分合并"
   ]
  },
  {
   "cell_type": "code",
   "execution_count": 15,
   "id": "3c0d10b6",
   "metadata": {},
   "outputs": [],
   "source": [
    "linear_part = Add()([fst_order_dense_layer, fst_order_sparse_layer])"
   ]
  },
  {
   "cell_type": "markdown",
   "id": "3e47a53b",
   "metadata": {},
   "source": [
    "二阶特征"
   ]
  },
  {
   "cell_type": "code",
   "execution_count": 16,
   "id": "f68f7af9",
   "metadata": {},
   "outputs": [],
   "source": [
    "k = 8  # embeding size \n",
    "# 只考虑sparse的二阶交叉\n",
    "sparse_kd_embed = []\n",
    "for i,_input in enumerate(sparse_inputs):\n",
    "    f = sparse_feats[i]\n",
    "    voc_size = df[f].nunique()\n",
    "    _embed = Embedding(voc_size+1, k, embeddings_regularizer=tf.keras.regularizers.l2(0.7))(_input)\n",
    "    sparse_kd_embed.append(_embed)"
   ]
  },
  {
   "cell_type": "code",
   "execution_count": 17,
   "id": "fa622885",
   "metadata": {},
   "outputs": [],
   "source": [
    "concat_sparse_kd_embed = Concatenate(axis=1)(sparse_kd_embed)"
   ]
  },
  {
   "cell_type": "code",
   "execution_count": 18,
   "id": "06cf4606",
   "metadata": {},
   "outputs": [],
   "source": [
    "# 先求和再平方\n",
    "sum_kd_embed = Lambda(lambda x: K.sum(x,axis=1))(concat_sparse_kd_embed)\n",
    "square_sum_kd_embed = Multiply()([sum_kd_embed, sum_kd_embed])"
   ]
  },
  {
   "cell_type": "code",
   "execution_count": 19,
   "id": "8d95b4c0",
   "metadata": {},
   "outputs": [],
   "source": [
    "#  先平方再求和\n",
    "square_kd_embed = Multiply()([concat_sparse_kd_embed, concat_sparse_kd_embed])\n",
    "sum_square_kd_embed = Lambda(lambda x: K.sum(x,axis=1))(square_kd_embed)"
   ]
  },
  {
   "cell_type": "code",
   "execution_count": 20,
   "id": "3bf83e3b",
   "metadata": {},
   "outputs": [],
   "source": [
    "# 相减除以2\n",
    "sub = Subtract()([square_sum_kd_embed,sum_square_kd_embed])\n",
    "sub = Lambda(lambda x: x*0.5)(sub)\n",
    "snd_order_sparse_layer = Lambda(lambda x: K.sum(x, axis=1,keepdims=True))(sub)"
   ]
  },
  {
   "cell_type": "markdown",
   "id": "8f239d26",
   "metadata": {},
   "source": [
    "DNN"
   ]
  },
  {
   "cell_type": "code",
   "execution_count": 21,
   "id": "16e2ac3b",
   "metadata": {},
   "outputs": [],
   "source": [
    "flatten_sparse_embed = Flatten()(concat_sparse_kd_embed)\n",
    "fc_layer = Dropout(0.5)(Dense(256,activation='relu')(flatten_sparse_embed)) \n",
    "fc_layer = Dropout(0.3)(Dense(256,activation='relu')(fc_layer))\n",
    "fc_layer = Dropout(0.1)(Dense(256,activation='relu')(fc_layer))\n",
    "fc_layer_output = Dense(1)(fc_layer)"
   ]
  },
  {
   "cell_type": "markdown",
   "id": "3442e8ea",
   "metadata": {},
   "source": [
    "输出结果"
   ]
  },
  {
   "cell_type": "code",
   "execution_count": 22,
   "id": "7c9af4d2",
   "metadata": {},
   "outputs": [],
   "source": [
    "output_layer = Add()([linear_part, snd_order_sparse_layer, fc_layer_output])\n",
    "output_layer = Activation('sigmoid')(output_layer)"
   ]
  },
  {
   "cell_type": "code",
   "execution_count": 23,
   "id": "b75e35a5",
   "metadata": {},
   "outputs": [],
   "source": [
    "model = Model(dense_inputs + sparse_inputs, output_layer)"
   ]
  },
  {
   "cell_type": "code",
   "execution_count": 24,
   "id": "8347f591",
   "metadata": {},
   "outputs": [],
   "source": [
    "model.compile(optimizer='adam',\n",
    "              loss='binary_crossentropy',\n",
    "              metrics=['binary_crossentropy',tf.keras.metrics.AUC(name='auc')])"
   ]
  },
  {
   "cell_type": "code",
   "execution_count": 29,
   "id": "44d5ba50",
   "metadata": {},
   "outputs": [
    {
     "data": {
      "text/plain": [
       "(10000, 40)"
      ]
     },
     "execution_count": 29,
     "metadata": {},
     "output_type": "execute_result"
    }
   ],
   "source": [
    "total_data.shape"
   ]
  },
  {
   "cell_type": "code",
   "execution_count": 30,
   "id": "c5e1244f",
   "metadata": {},
   "outputs": [],
   "source": [
    "train_data = total_data.loc[:8000]\n",
    "valid_data = total_data.loc[8000:]"
   ]
  },
  {
   "cell_type": "code",
   "execution_count": 31,
   "id": "17972964",
   "metadata": {},
   "outputs": [],
   "source": [
    "train_dense_x = [train_data[f].values for f in dense_feats]\n",
    "train_sparse_x = [train_data[f].values for f in sparse_feats]\n",
    "\n",
    "train_label = [train_data['label'].values]\n",
    "\n",
    "val_dense_x = [valid_data[f].values for f in dense_feats]\n",
    "val_sparse_x = [valid_data[f].values for f in sparse_feats]\n",
    "\n",
    "val_label = [valid_data['label'].values]"
   ]
  },
  {
   "cell_type": "code",
   "execution_count": 32,
   "id": "ef7785db",
   "metadata": {},
   "outputs": [
    {
     "name": "stdout",
     "output_type": "stream",
     "text": [
      "Epoch 1/5\n",
      "126/126 [==============================] - 4s 29ms/step - loss: 0.7271 - binary_crossentropy: 0.6525 - auc: 0.5975 - val_loss: 0.6931 - val_binary_crossentropy: 0.6150 - val_auc: 0.6235\n",
      "Epoch 2/5\n",
      "126/126 [==============================] - 2s 13ms/step - loss: 0.6904 - binary_crossentropy: 0.6154 - auc: 0.6124 - val_loss: 0.6482 - val_binary_crossentropy: 0.5815 - val_auc: 0.6434\n",
      "Epoch 3/5\n",
      "126/126 [==============================] - 2s 13ms/step - loss: 0.6583 - binary_crossentropy: 0.5906 - auc: 0.6277 - val_loss: 0.6280 - val_binary_crossentropy: 0.5701 - val_auc: 0.6475\n",
      "Epoch 4/5\n",
      "126/126 [==============================] - 2s 14ms/step - loss: 0.6249 - binary_crossentropy: 0.5722 - auc: 0.6327 - val_loss: 0.5989 - val_binary_crossentropy: 0.5494 - val_auc: 0.6598\n",
      "Epoch 5/5\n",
      "126/126 [==============================] - 2s 13ms/step - loss: 0.6151 - binary_crossentropy: 0.5551 - auc: 0.6490 - val_loss: 0.6118 - val_binary_crossentropy: 0.5393 - val_auc: 0.6717\n"
     ]
    },
    {
     "data": {
      "text/plain": [
       "<tensorflow.python.keras.callbacks.History at 0x29051134580>"
      ]
     },
     "execution_count": 32,
     "metadata": {},
     "output_type": "execute_result"
    }
   ],
   "source": [
    "model.fit(train_dense_x + train_sparse_x, train_label,\n",
    "          epochs=5, batch_size=64,\n",
    "         validation_data = (val_dense_x + val_sparse_x, val_label),\n",
    "         )"
   ]
  },
  {
   "cell_type": "code",
   "execution_count": null,
   "id": "a7e3bbd4",
   "metadata": {},
   "outputs": [],
   "source": []
  }
 ],
 "metadata": {
  "kernelspec": {
   "display_name": "tf2x",
   "language": "python",
   "name": "tf2x"
  },
  "language_info": {
   "codemirror_mode": {
    "name": "ipython",
    "version": 3
   },
   "file_extension": ".py",
   "mimetype": "text/x-python",
   "name": "python",
   "nbconvert_exporter": "python",
   "pygments_lexer": "ipython3",
   "version": "3.8.5"
  }
 },
 "nbformat": 4,
 "nbformat_minor": 5
}
