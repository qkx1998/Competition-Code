{
 "cells": [
  {
   "cell_type": "code",
   "execution_count": 38,
   "id": "8a8cd9f1",
   "metadata": {},
   "outputs": [],
   "source": [
    "import numpy as np\n",
    "import pandas as pd\n",
    "import tensorflow as tf\n",
    "import tensorflow.keras.backend as K\n",
    "from sklearn.preprocessing import MinMaxScaler\n",
    "from tensorflow.keras.callbacks import *\n",
    "from tensorflow.keras.initializers import *\n",
    "from tensorflow.keras.layers import *\n",
    "from tensorflow.keras.models import *\n",
    "from tensorflow.python.keras.layers import Layer\n",
    "from tensorflow.keras.utils import to_categorical\n",
    "from tensorflow.keras import datasets\n",
    "\n",
    "(x_train, y_train), (x_test, y_test) = datasets.fashion_mnist.load_data()"
   ]
  },
  {
   "cell_type": "code",
   "execution_count": 39,
   "id": "1f0a8d5f",
   "metadata": {},
   "outputs": [
    {
     "data": {
      "text/plain": [
       "(60000, 28, 28)"
      ]
     },
     "execution_count": 39,
     "metadata": {},
     "output_type": "execute_result"
    }
   ],
   "source": [
    "x_train.shape"
   ]
  },
  {
   "cell_type": "code",
   "execution_count": 40,
   "id": "1a9ebdff",
   "metadata": {},
   "outputs": [],
   "source": [
    "import random"
   ]
  },
  {
   "cell_type": "code",
   "execution_count": 41,
   "id": "b0363813",
   "metadata": {},
   "outputs": [],
   "source": [
    "# 构建正样本pair和负样本pair\n",
    "def create_pairs(x, digit_indices):\n",
    "    '''Positive and negative pair creation.\n",
    "    Alternates between positive and negative pairs.\n",
    "    '''\n",
    "    pairs = []\n",
    "    labels = []\n",
    "\n",
    "    for d in range(10):\n",
    "        for i in range(d):\n",
    "            z1, z2 = digit_indices[d][i], digit_indices[d][i + 1] #  构建正样本\n",
    "            pairs += [[x[z1], x[z2]]]\n",
    "            inc = random.randrange(1, 10)\n",
    "            dn = (d + inc) % 10\n",
    "            z1, z2 = digit_indices[d][i], digit_indices[dn][i] # 构建负样本\n",
    "            pairs += [[x[z1], x[z2]]]\n",
    "            labels += [1, 0]\n",
    "\n",
    "    return np.array(pairs), np.array(labels)\n",
    "\n",
    "\n",
    "def create_pairs_on_set(images, labels):\n",
    "\n",
    "    digit_indices = [np.where(labels == i)[0] for i in range(10)] # 每个类的index \n",
    "    pairs, y = create_pairs(images, digit_indices)\n",
    "    y = y.astype('float32')\n",
    "\n",
    "    return pairs, y\n",
    "\n",
    "x_train = x_train.astype('float32')\n",
    "x_test = x_test.astype('float32')\n",
    "\n",
    "# normalize values\n",
    "x_train = x_train / 255.0\n",
    "x_test = x_test / 255.0\n",
    "\n",
    "# create pairs on train and test sets\n",
    "tr_pairs, tr_y = create_pairs_on_set(x_train, y_train)\n",
    "ts_pairs, ts_y = create_pairs_on_set(x_test, y_test)"
   ]
  },
  {
   "cell_type": "markdown",
   "id": "b4f020d4",
   "metadata": {},
   "source": [
    "sequential model"
   ]
  },
  {
   "cell_type": "code",
   "execution_count": 42,
   "id": "0aa2699d",
   "metadata": {},
   "outputs": [],
   "source": [
    "# Implemented with sequential API\n",
    "def initialize_base_network_seq():\n",
    "    model = tf.keras.models.Sequential()\n",
    "    model.add(Input(shape=(28, 28, ), name=\"base_input\"))\n",
    "    model.add(Flatten(name=\"flatten_input\"))\n",
    "    model.add(Dense(128, activation='relu', name=\"first_base_dense\"))\n",
    "    model.add(Dropout(0.1, name=\"first_dropout\"))\n",
    "    model.add(Dense(128, activation='relu', name=\"second_base_dense\"))\n",
    "    model.add(Dropout(0.1, name=\"second_dropout\"))\n",
    "    model.add(Dense(128, activation='relu', name=\"third_base_dense\"))\n",
    "    return model"
   ]
  },
  {
   "cell_type": "markdown",
   "id": "0bd9ce41",
   "metadata": {},
   "source": [
    "Functional API "
   ]
  },
  {
   "cell_type": "code",
   "execution_count": 43,
   "id": "8adb4403",
   "metadata": {},
   "outputs": [],
   "source": [
    "def initialize_base_network_func():\n",
    "    input_ = Input(shape=(28,28,), name=\"base_input\")\n",
    "    x = Flatten(name=\"flatten_input\")(input_)\n",
    "    x = Dense(128, activation='relu', name=\"first_base_dense\")(x)\n",
    "    x = Dropout(0.1, name=\"first_dropout\")(x)\n",
    "    x = Dense(128, activation='relu', name=\"second_base_dense\")(x)\n",
    "    x = Dropout(0.1, name=\"second_dropout\")(x)\n",
    "    x = Dense(128, activation='relu', name=\"third_base_dense\")(x)\n",
    "\n",
    "    return Model(inputs=input_, outputs=x)"
   ]
  },
  {
   "cell_type": "markdown",
   "id": "45cd4dad",
   "metadata": {},
   "source": [
    "Model Subclassing "
   ]
  },
  {
   "cell_type": "code",
   "execution_count": 44,
   "id": "dbc9238b",
   "metadata": {},
   "outputs": [],
   "source": [
    "from tensorflow.keras import Model\n",
    "\n",
    "class BaseNetwork(tf.keras.Model):\n",
    "    def __init__(self, **kwargs):\n",
    "        super().__init__(**kwargs)\n",
    "        self.flatten_input = Flatten(name=\"flatten_input\")\n",
    "        self.first_base_dense = Dense(128, activation='relu', name=\"first_base_dense\")\n",
    "        self.first_dropout = Dropout(0.1, name=\"first_dropout\")\n",
    "        self.second_base_dense = Dense(128, activation='relu', name=\"second_base_dense\")\n",
    "        self.second_dropout = Dropout(0.1, name=\"second_dropout\")\n",
    "        self.third_base_dense = Dense(128, activation='relu', name=\"third_base_dense\")\n",
    "\n",
    "    def call(self, input_):\n",
    "        output = self.flatten_input(input_)\n",
    "        output = self.first_base_dense(output)\n",
    "        output = self.first_dropout(output)\n",
    "        output = self.second_base_dense(output)\n",
    "        output = self.second_dropout(output)\n",
    "        output = self.third_base_dense(output)\n",
    "        return output\n",
    "    \n",
    "    # 对于 model subclassing 实现的模型，如果只实现了 __init__() 和 call() 方法，那么将不能进行可视化，必须再实现 build_graph() 方法\n",
    "    def build_graph(self, input_shape):\n",
    "        input_ = tf.keras.layers.Input(shape=input_shape)\n",
    "        return Model(inputs=[input_], outputs=self.call(input_))"
   ]
  },
  {
   "cell_type": "markdown",
   "id": "4c85ca1e",
   "metadata": {},
   "source": [
    "输出层"
   ]
  },
  {
   "cell_type": "code",
   "execution_count": 45,
   "id": "b9633d15",
   "metadata": {},
   "outputs": [],
   "source": [
    "def euclidean_distance(vects):\n",
    "    x, y = vects\n",
    "    sum_square = K.sum(K.square(x - y), axis=1, keepdims=True)\n",
    "    return K.sqrt(K.maximum(sum_square, K.epsilon()))\n",
    "\n",
    "# 函数不能直接作为数据层使用，需要将此层变成 layer 才能使用。具体要如何构建layer，有两种方式。\n",
    "# Layer Subclassing\n",
    "# Lambda 实现"
   ]
  },
  {
   "cell_type": "markdown",
   "id": "e82870b1",
   "metadata": {},
   "source": [
    "Layer subclassing 实现 Euclidean Distance Layer 层"
   ]
  },
  {
   "cell_type": "code",
   "execution_count": 46,
   "id": "389d76b8",
   "metadata": {},
   "outputs": [],
   "source": [
    "# create customized layer\n",
    "class CustomizedEuclideanDistanceLayer(tf.keras.layers.Layer):\n",
    "    def __init__(self, **kwargs):\n",
    "        super().__init__(**kwargs)\n",
    "\n",
    "    def build(self, input_shape):\n",
    "        '''构建所需要的参数'''\n",
    "        super().build(input_shape)\n",
    "        # 这边没有\n",
    "\n",
    "    def call(self, inputs):\n",
    "        '''完成正向计算'''\n",
    "        return euclidean_distance(inputs)"
   ]
  },
  {
   "cell_type": "markdown",
   "id": "301d4b09",
   "metadata": {},
   "source": [
    "Lambda 实现 Euclidean Distance Layer 层（output层）"
   ]
  },
  {
   "cell_type": "code",
   "execution_count": 47,
   "id": "313cf60e",
   "metadata": {},
   "outputs": [],
   "source": [
    "euclidean_dis_layer_lambda = Lambda(euclidean_distance, name=\"outpur_layer\", output_shape=(1, 1))"
   ]
  },
  {
   "cell_type": "markdown",
   "id": "2c409000",
   "metadata": {},
   "source": [
    "构建 siamese model"
   ]
  },
  {
   "cell_type": "markdown",
   "id": "8171b4e3",
   "metadata": {},
   "source": [
    "方式一：Functional API"
   ]
  },
  {
   "cell_type": "code",
   "execution_count": 48,
   "id": "e268714f",
   "metadata": {},
   "outputs": [],
   "source": [
    "# create the left input and point to the base network\n",
    "input_1 = Input(shape=(28,28), name=\"left_input\")\n",
    "base_network = initialize_base_network_func()\n",
    "embedding1 = base_network(input_1)\n",
    "\n",
    "# create the right input and point to the base network\n",
    "input_2 = Input(shape=(28,28), name=\"right_input\")\n",
    "embedding2 = base_network(input_2)\n",
    "\n",
    "\n",
    "## Implemented with Functional API\n",
    "# measure the similarity of the two vector outputs\n",
    "output = euclidean_dis_layer_lambda([embedding1, embedding2])\n",
    "\n",
    "# specify the inputs and output of the model\n",
    "model = Model([input_1, input_2], output)"
   ]
  },
  {
   "cell_type": "markdown",
   "id": "a028673a",
   "metadata": {},
   "source": [
    "方式二：Model Subclassing"
   ]
  },
  {
   "cell_type": "code",
   "execution_count": 49,
   "id": "7c66bc2c",
   "metadata": {},
   "outputs": [],
   "source": [
    "#### Implemented with subclass API\n",
    "\n",
    "class SiameseModel(tf.keras.models.Model):\n",
    "    def __init__(self, **kwargs):\n",
    "        super().__init__(**kwargs)\n",
    "        self.base_model = BaseNetwork()\n",
    "        self.euclidean_dis_layer = Lambda(euclidean_distance, name=\"outpur_layer\", output_shape=(1, 1))\n",
    "\n",
    "    def call(self, inputs):\n",
    "        input_1, input_2 = inputs\n",
    "\n",
    "        embedding1 = self.base_model(input_1)\n",
    "        embedding2 = self.base_model(input_2)\n",
    "\n",
    "        output = self.euclidean_dis_layer([embedding1, embedding2])\n",
    "        return output\n",
    "\n",
    "    def build_graph(self, shapes):\n",
    "        shape1, shape2 = shapes\n",
    "        input_1 = tf.keras.layers.Input(shape=shape1)\n",
    "        input_2 = tf.keras.layers.Input(shape=shape2)\n",
    "        return Model(inputs=[input_1, input_2], outputs=[self.call([input_1, input_2])])\n",
    "\n",
    "model = SiameseModel()    "
   ]
  },
  {
   "cell_type": "markdown",
   "id": "eb8639f2",
   "metadata": {},
   "source": [
    "Train the Model"
   ]
  },
  {
   "cell_type": "code",
   "execution_count": 50,
   "id": "bc33b2c2",
   "metadata": {},
   "outputs": [],
   "source": [
    "def contrastive_loss_with_margin(margin):\n",
    "    def contrastive_loss(y_true, y_pred):\n",
    "        '''Contrastive loss from Hadsell-et-al.'06\n",
    "        http://yann.lecun.com/exdb/publis/pdf/hadsell-chopra-lecun-06.pdf\n",
    "        '''\n",
    "        square_pred = K.square(y_pred)\n",
    "        margin_square = K.square(K.maximum(margin - y_pred, 0))\n",
    "        return K.mean(y_true * square_pred + (1 - y_true) * margin_square) # 正样本pair越小，让负样本pair 距离越大，且必须要大于margin，否则的话 所有 y_predict 都等于0，loss也是0\n",
    "    return contrastive_loss"
   ]
  },
  {
   "cell_type": "code",
   "execution_count": 51,
   "id": "9e43e220",
   "metadata": {},
   "outputs": [],
   "source": [
    "from tensorflow.keras.optimizers import RMSprop"
   ]
  },
  {
   "cell_type": "code",
   "execution_count": 52,
   "id": "322b26a9",
   "metadata": {},
   "outputs": [
    {
     "name": "stdout",
     "output_type": "stream",
     "text": [
      "Epoch 1/5\n",
      "1/1 [==============================] - 0s 166ms/step - loss: 1.7439 - val_loss: 0.3828\n",
      "Epoch 2/5\n",
      "1/1 [==============================] - 0s 64ms/step - loss: 0.6462 - val_loss: 0.2356\n",
      "Epoch 3/5\n",
      "1/1 [==============================] - 0s 53ms/step - loss: 0.2631 - val_loss: 0.2366\n",
      "Epoch 4/5\n",
      "1/1 [==============================] - 0s 61ms/step - loss: 0.2253 - val_loss: 0.2243\n",
      "Epoch 5/5\n",
      "1/1 [==============================] - 0s 51ms/step - loss: 0.1952 - val_loss: 0.2208\n"
     ]
    }
   ],
   "source": [
    "rms = RMSprop()\n",
    "model.compile(loss=contrastive_loss_with_margin(margin=1), optimizer=rms)\n",
    "history = model.fit([tr_pairs[:,0], tr_pairs[:,1]], tr_y, epochs=5, batch_size=128, validation_data=([ts_pairs[:,0], ts_pairs[:,1]], ts_y))"
   ]
  },
  {
   "cell_type": "markdown",
   "id": "a51d549e",
   "metadata": {},
   "source": [
    "验证效果"
   ]
  },
  {
   "cell_type": "code",
   "execution_count": 53,
   "id": "80a377c5",
   "metadata": {},
   "outputs": [],
   "source": [
    "def compute_accuracy(y_true, y_pred):\n",
    "    '''Compute classification accuracy with a fixed threshold on distances.\n",
    "    '''\n",
    "    pred = y_pred.ravel() < 0.5\n",
    "    return np.mean(pred == y_true)"
   ]
  },
  {
   "cell_type": "code",
   "execution_count": 54,
   "id": "574abcd3",
   "metadata": {},
   "outputs": [
    {
     "name": "stdout",
     "output_type": "stream",
     "text": [
      "3/3 [==============================] - 0s 3ms/step - loss: 0.2208\n",
      "Loss = 0.22082214057445526, Train Accuracy = 0.7888888888888889 Test Accuracy = 0.6666666666666666\n"
     ]
    }
   ],
   "source": [
    "loss = model.evaluate(x=[ts_pairs[:,0],ts_pairs[:,1]], y=ts_y)\n",
    "\n",
    "y_pred_train = model.predict([tr_pairs[:,0], tr_pairs[:,1]])\n",
    "train_accuracy = compute_accuracy(tr_y, y_pred_train)\n",
    "\n",
    "y_pred_test = model.predict([ts_pairs[:,0], ts_pairs[:,1]])\n",
    "test_accuracy = compute_accuracy(ts_y, y_pred_test)\n",
    "\n",
    "print(\"Loss = {}, Train Accuracy = {} Test Accuracy = {}\".format(loss, train_accuracy, test_accuracy))"
   ]
  },
  {
   "cell_type": "markdown",
   "id": "0afa4469",
   "metadata": {},
   "source": [
    "展示图片"
   ]
  },
  {
   "cell_type": "code",
   "execution_count": 55,
   "id": "b66868a2",
   "metadata": {},
   "outputs": [],
   "source": [
    "import matplotlib.pyplot as plt\n",
    "%matplotlib inline"
   ]
  },
  {
   "cell_type": "code",
   "execution_count": 56,
   "id": "dc5d602e",
   "metadata": {},
   "outputs": [],
   "source": [
    "# utility to display a row of digits with their predictions\n",
    "def display_images(left, right, predictions, labels, title, n):\n",
    "    plt.figure(figsize=(17,3))\n",
    "    plt.title(title)\n",
    "    plt.yticks([])\n",
    "    plt.xticks([])\n",
    "    plt.grid(None)\n",
    "    left = np.reshape(left, [n, 28, 28])\n",
    "    left = np.swapaxes(left, 0, 1)\n",
    "    left = np.reshape(left, [28, 28*n])\n",
    "    plt.imshow(left)\n",
    "    plt.figure(figsize=(17,3))\n",
    "    plt.yticks([])\n",
    "    plt.xticks([28*x+14 for x in range(n)], predictions)\n",
    "    for i,t in enumerate(plt.gca().xaxis.get_ticklabels()):\n",
    "        if predictions[i] > 0.5: t.set_color('red') # bad predictions in red\n",
    "    plt.grid(None)\n",
    "    right = np.reshape(right, [n, 28, 28])\n",
    "    right = np.swapaxes(right, 0, 1)\n",
    "    right = np.reshape(right, [28, 28*n])\n",
    "    plt.imshow(right)"
   ]
  },
  {
   "cell_type": "markdown",
   "id": "a1d0e311",
   "metadata": {},
   "source": [
    "展示模型效果"
   ]
  },
  {
   "cell_type": "code",
   "execution_count": 57,
   "id": "155a3b32",
   "metadata": {},
   "outputs": [
    {
     "data": {
      "image/png": "[encoded data removed]",
      "text/plain": [
       "<Figure size 1224x216 with 1 Axes>"
      ]
     },
     "metadata": {},
     "output_type": "display_data"
    },
    {
     "data": {
      "image/png": "[encoded data removed]",
      "text/plain": [
       "<Figure size 1224x216 with 1 Axes>"
      ]
     },
     "metadata": {
      "needs_background": "light"
     },
     "output_type": "display_data"
    }
   ],
   "source": [
    "y_pred_train = np.squeeze(y_pred_train)\n",
    "indexes = np.random.choice(len(y_pred_train), size=10)\n",
    "display_images(tr_pairs[:, 0][indexes], tr_pairs[:, 1][indexes], y_pred_train[indexes], tr_y[indexes], \"clothes and their dissimilarity\", 10)"
   ]
  },
  {
   "cell_type": "code",
   "execution_count": null,
   "id": "77ed8295",
   "metadata": {},
   "outputs": [],
   "source": []
  }
 ],
 "metadata": {
  "kernelspec": {
   "display_name": "tf2x",
   "language": "python",
   "name": "tf2x"
  },
  "language_info": {
   "codemirror_mode": {
    "name": "ipython",
    "version": 3
   },
   "file_extension": ".py",
   "mimetype": "text/x-python",
   "name": "python",
   "nbconvert_exporter": "python",
   "pygments_lexer": "ipython3",
   "version": "3.8.5"
  }
 },
 "nbformat": 4,
 "nbformat_minor": 5
}
