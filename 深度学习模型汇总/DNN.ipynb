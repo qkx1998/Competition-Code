{
 "cells": [
  {
   "cell_type": "code",
   "execution_count": null,
   "id": "4c66bf63",
   "metadata": {},
   "outputs": [],
   "source": [
    "'''\n",
    "在tf2中，有三种构建网络的方式：\n",
    "1 the sequentail api\n",
    "2 the functional api\n",
    "3 model subclassing\n",
    "'''"
   ]
  },
  {
   "cell_type": "code",
   "execution_count": 3,
   "id": "ce6f9516",
   "metadata": {},
   "outputs": [],
   "source": [
    "from tensorflow.keras.models import Sequential\n",
    "from tensorflow.keras.layers import Dense, Flatten"
   ]
  },
  {
   "cell_type": "code",
   "execution_count": 5,
   "id": "5ea3f442",
   "metadata": {},
   "outputs": [],
   "source": [
    "from tensorflow.keras import datasets\n",
    "\n",
    "(x_train, y_train), (x_test, y_test) = datasets.mnist.load_data()"
   ]
  },
  {
   "cell_type": "code",
   "execution_count": 7,
   "id": "342294cc",
   "metadata": {},
   "outputs": [
    {
     "data": {
      "text/plain": [
       "(60000, 28, 28)"
      ]
     },
     "execution_count": 7,
     "metadata": {},
     "output_type": "execute_result"
    }
   ],
   "source": [
    "x_train.shape"
   ]
  },
  {
   "cell_type": "markdown",
   "id": "5b95fa2d",
   "metadata": {},
   "source": [
    "the sequentail api 1"
   ]
  },
  {
   "cell_type": "code",
   "execution_count": 9,
   "id": "0eab2aac",
   "metadata": {},
   "outputs": [],
   "source": [
    "model1 = Sequential([\n",
    "    Flatten(input_shape=(28, 28)),\n",
    "    Dense(256, 'relu'),\n",
    "    Dense(10, 'softmax')\n",
    "])"
   ]
  },
  {
   "cell_type": "markdown",
   "id": "22374235",
   "metadata": {},
   "source": [
    "the sequentail api 2"
   ]
  },
  {
   "cell_type": "code",
   "execution_count": 10,
   "id": "85454cb8",
   "metadata": {},
   "outputs": [],
   "source": [
    "model2 = Sequential()\n",
    "model2.add(Flatten(input_shape=(28, 28)))\n",
    "model2.add(Dense(256, 'relu'))\n",
    "model2.add(Dense(10, 'softmax'))"
   ]
  },
  {
   "cell_type": "markdown",
   "id": "8279b49a",
   "metadata": {},
   "source": [
    "the functional api"
   ]
  },
  {
   "cell_type": "code",
   "execution_count": 12,
   "id": "45ca37d5",
   "metadata": {},
   "outputs": [],
   "source": [
    "from tensorflow.keras import Input\n",
    "from tensorflow.keras import Model"
   ]
  },
  {
   "cell_type": "code",
   "execution_count": 13,
   "id": "d2bfdefa",
   "metadata": {},
   "outputs": [],
   "source": [
    "inputs = Input(shape=(28, 28))\n",
    "x = Flatten()(inputs)\n",
    "x = Dense(256, 'relu')(x)\n",
    "outputs = Dense(10, 'softmax')(x)\n",
    "model3 = Model(inputs=inputs, outputs=outputs)"
   ]
  },
  {
   "cell_type": "markdown",
   "id": "c70cb9cb",
   "metadata": {},
   "source": [
    "model subclassing"
   ]
  },
  {
   "cell_type": "code",
   "execution_count": 15,
   "id": "98d20314",
   "metadata": {},
   "outputs": [],
   "source": [
    "import tensorflow as tf"
   ]
  },
  {
   "cell_type": "code",
   "execution_count": 19,
   "id": "73a17085",
   "metadata": {},
   "outputs": [],
   "source": [
    "class MnistDNN(tf.keras.Model):\n",
    "    def __init__(self, **kwargs):\n",
    "        super().__init__(**kwargs)\n",
    "        self.flatten = Flatten()\n",
    "        self.dense1 = Dense(256, 'relu')\n",
    "        self.dense2 = Dense(10, 'softmax')\n",
    "        \n",
    "    def call(self, inputs):\n",
    "        x = self.flatten(inputs)\n",
    "        x = self.dense1(x)\n",
    "        x = self.dense2(x)\n",
    "        return x\n",
    "\n",
    "    \n",
    "model4 = MnistDNN()"
   ]
  },
  {
   "cell_type": "code",
   "execution_count": 20,
   "id": "47b90e66",
   "metadata": {},
   "outputs": [
    {
     "name": "stdout",
     "output_type": "stream",
     "text": [
      "--------------------\n",
      "Epoch 1/5\n",
      "1875/1875 [==============================] - 5s 2ms/step - loss: 2.5226 - accuracy: 0.8938\n",
      "Epoch 2/5\n",
      "1875/1875 [==============================] - 4s 2ms/step - loss: 0.3171 - accuracy: 0.9327\n",
      "Epoch 3/5\n",
      "1875/1875 [==============================] - 4s 2ms/step - loss: 0.2664 - accuracy: 0.9390\n",
      "Epoch 4/5\n",
      "1875/1875 [==============================] - 4s 2ms/step - loss: 0.2296 - accuracy: 0.9462\n",
      "Epoch 5/5\n",
      "1875/1875 [==============================] - 4s 2ms/step - loss: 0.2284 - accuracy: 0.9496\n",
      "313/313 [==============================] - 1s 2ms/step - loss: 0.2947 - accuracy: 0.9395\n"
     ]
    }
   ],
   "source": [
    "model_lst = [model4]\n",
    "for i, model in enumerate(model_lst):\n",
    "    print('-'*20)\n",
    "    model.compile(optimizer='adam', loss='sparse_categorical_crossentropy', metrics=['accuracy'])\n",
    "    model.fit(x=x_train, y=y_train, epochs=5)\n",
    "    model.evaluate(x_test, y_test)"
   ]
  },
  {
   "cell_type": "code",
   "execution_count": null,
   "id": "a41401e3",
   "metadata": {},
   "outputs": [],
   "source": []
  }
 ],
 "metadata": {
  "kernelspec": {
   "display_name": "tf2x",
   "language": "python",
   "name": "tf2x"
  },
  "language_info": {
   "codemirror_mode": {
    "name": "ipython",
    "version": 3
   },
   "file_extension": ".py",
   "mimetype": "text/x-python",
   "name": "python",
   "nbconvert_exporter": "python",
   "pygments_lexer": "ipython3",
   "version": "3.8.5"
  }
 },
 "nbformat": 4,
 "nbformat_minor": 5
}
