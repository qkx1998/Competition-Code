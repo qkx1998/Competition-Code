{
 "cells": [
  {
   "cell_type": "code",
   "execution_count": 52,
   "id": "42a18002",
   "metadata": {},
   "outputs": [],
   "source": [
    "import numpy as np\n",
    "import pandas as pd\n",
    "import tensorflow as tf\n",
    "import tensorflow.keras.backend as K\n",
    "from sklearn.preprocessing import MinMaxScaler\n",
    "from tensorflow.keras.callbacks import *\n",
    "from tensorflow.keras.initializers import *\n",
    "from tensorflow.keras.layers import *\n",
    "from tensorflow.keras.models import *\n",
    "from tensorflow.python.keras.layers import Layer\n",
    "from tensorflow.keras.utils import to_categorical\n",
    "from tensorflow.keras import datasets\n",
    "\n",
    "(x_train, y_train), (x_test, y_test) = datasets.mnist.load_data()"
   ]
  },
  {
   "cell_type": "code",
   "execution_count": 53,
   "id": "e4bcd1fe",
   "metadata": {},
   "outputs": [],
   "source": [
    "x_train = x_train.reshape(-1, 28, 28) / 255.\n",
    "x_test = x_test.reshape(-1, 28, 28) / 255."
   ]
  },
  {
   "cell_type": "code",
   "execution_count": 54,
   "id": "afc468c3",
   "metadata": {},
   "outputs": [
    {
     "data": {
      "text/plain": [
       "(60000, 28, 28)"
      ]
     },
     "execution_count": 54,
     "metadata": {},
     "output_type": "execute_result"
    }
   ],
   "source": [
    "x_train.shape"
   ]
  },
  {
   "cell_type": "code",
   "execution_count": 55,
   "id": "3457d8c5",
   "metadata": {},
   "outputs": [],
   "source": [
    "n_steps = 28\n",
    "n_features = 28"
   ]
  },
  {
   "cell_type": "code",
   "execution_count": 56,
   "id": "be3e54be",
   "metadata": {},
   "outputs": [],
   "source": [
    "# !pip install attention -i http://pypi.douban.com/simple --trusted-host pypi.douban.com"
   ]
  },
  {
   "cell_type": "code",
   "execution_count": 57,
   "id": "5db75b3c",
   "metadata": {},
   "outputs": [],
   "source": [
    "from attention import Attention"
   ]
  },
  {
   "cell_type": "code",
   "execution_count": 58,
   "id": "7cd8c57a",
   "metadata": {},
   "outputs": [],
   "source": [
    "inputss = Input(shape=(28, 28))\n",
    "x = LSTM(32, return_sequences=True)(inputss)\n",
    "x = Dropout(0.2)(x)\n",
    "x = Attention(units=32)(x)\n",
    "x = Flatten()(x)\n",
    "x = Dense(32, 'relu')(x)\n",
    "outputs = Dense(10, 'softmax')(x)\n",
    "\n",
    "model2 = Model(inputs=inputss, outputs=outputs)"
   ]
  },
  {
   "cell_type": "code",
   "execution_count": 59,
   "id": "95e2c89b",
   "metadata": {},
   "outputs": [
    {
     "name": "stdout",
     "output_type": "stream",
     "text": [
      "--------------------\n",
      "Epoch 1/5\n",
      "1875/1875 [==============================] - 20s 11ms/step - loss: 0.5652 - accuracy: 0.8155\n",
      "Epoch 2/5\n",
      "1875/1875 [==============================] - 20s 11ms/step - loss: 0.1861 - accuracy: 0.9439\n",
      "Epoch 3/5\n",
      "1875/1875 [==============================] - 21s 11ms/step - loss: 0.1375 - accuracy: 0.9592\n",
      "Epoch 4/5\n",
      "1875/1875 [==============================] - 24s 13ms/step - loss: 0.1113 - accuracy: 0.9667\n",
      "Epoch 5/5\n",
      "1875/1875 [==============================] - 22s 12ms/step - loss: 0.0928 - accuracy: 0.9727\n",
      "313/313 [==============================] - 2s 6ms/step - loss: 0.0728 - accuracy: 0.9765\n"
     ]
    }
   ],
   "source": [
    "model_lst = [model2]\n",
    "for i, model in enumerate(model_lst):\n",
    "    print('-'*20)\n",
    "    model.compile(optimizer='adam', loss='sparse_categorical_crossentropy', metrics=['accuracy'])\n",
    "    model.fit(x=x_train, y=y_train, epochs=5)\n",
    "    model.evaluate(x_test, y_test)"
   ]
  },
  {
   "cell_type": "code",
   "execution_count": null,
   "id": "1c4c1dc9",
   "metadata": {},
   "outputs": [],
   "source": []
  }
 ],
 "metadata": {
  "kernelspec": {
   "display_name": "Python 3",
   "language": "python",
   "name": "python3"
  },
  "language_info": {
   "codemirror_mode": {
    "name": "ipython",
    "version": 3
   },
   "file_extension": ".py",
   "mimetype": "text/x-python",
   "name": "python",
   "nbconvert_exporter": "python",
   "pygments_lexer": "ipython3",
   "version": "3.7.0"
  }
 },
 "nbformat": 4,
 "nbformat_minor": 5
}
