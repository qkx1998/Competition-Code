{
 "cells": [
  {
   "cell_type": "code",
   "execution_count": 3,
   "id": "03648b94",
   "metadata": {},
   "outputs": [],
   "source": [
    "from tensorflow.keras.models import Sequential\n",
    "from tensorflow.keras.layers import Dense, Flatten, Conv2D, MaxPool2D, GRU\n",
    "from tensorflow.keras import datasets\n",
    "import tensorflow as tf\n",
    "from tensorflow.keras import Input\n",
    "from tensorflow.keras import Model\n",
    "\n",
    "(x_train, y_train), (x_test, y_test) = datasets.mnist.load_data()"
   ]
  },
  {
   "cell_type": "code",
   "execution_count": 4,
   "id": "ba78f5cf",
   "metadata": {},
   "outputs": [],
   "source": [
    "timesteps = 28\n",
    "data_dim = 28"
   ]
  },
  {
   "cell_type": "code",
   "execution_count": 5,
   "id": "840b598e",
   "metadata": {},
   "outputs": [],
   "source": [
    "model1 = Sequential([\n",
    "    GRU(32, return_sequences=True,  input_shape=(timesteps, data_dim)),\n",
    "    GRU(16),\n",
    "    Dense(32, 'relu'),\n",
    "    Dense(10, 'softmax')\n",
    "])"
   ]
  },
  {
   "cell_type": "code",
   "execution_count": 6,
   "id": "35c6aca9",
   "metadata": {},
   "outputs": [],
   "source": [
    "inputss = Input(shape=(timesteps, data_dim))\n",
    "x = GRU(32, return_sequences=True)(inputss)\n",
    "x = GRU(16)(x)\n",
    "x = Dense(32, 'relu')(x)\n",
    "outputs = Dense(10, 'softmax')(x)\n",
    "\n",
    "model2 = Model(inputs=inputss, outputs=outputs)"
   ]
  },
  {
   "cell_type": "code",
   "execution_count": 7,
   "id": "1eadfc29",
   "metadata": {},
   "outputs": [],
   "source": [
    "x_train = tf.cast(x_train,tf.float32)\n",
    "x_test = tf.cast(x_test,tf.float32)"
   ]
  },
  {
   "cell_type": "code",
   "execution_count": 8,
   "id": "209b948f",
   "metadata": {},
   "outputs": [],
   "source": [
    "class MnistGRU(tf.keras.Model):\n",
    "    def __init__(self):\n",
    "        super().__init__()\n",
    "        # 无论是sequential还是model subclassing， 用参数说明数据的输入形状都不是必须的，input_shape可要可不要\n",
    "        self.gru1 = GRU(32, return_sequences=True, input_shape=(28, 28))\n",
    "        self.gru2 = GRU(16)\n",
    "        self.dense1 = Dense(32, 'relu')\n",
    "        self.dense2 = Dense(10, 'softmax')\n",
    "    \n",
    "    def call(self, inputs):\n",
    "        x = self.gru1(inputs)\n",
    "        x = self.gru2(x)\n",
    "        x = self.dense1(x)\n",
    "        x = self.dense2(x)\n",
    "        return x\n",
    "    \n",
    "    \n",
    "model3 = MnistGRU()"
   ]
  },
  {
   "cell_type": "code",
   "execution_count": 9,
   "id": "41b6f803",
   "metadata": {},
   "outputs": [
    {
     "name": "stdout",
     "output_type": "stream",
     "text": [
      "--------------------\n",
      "Epoch 1/5\n",
      "1875/1875 [==============================] - 27s 15ms/step - loss: 0.9527 - accuracy: 0.6727\n",
      "Epoch 2/5\n",
      "1875/1875 [==============================] - 27s 14ms/step - loss: 0.3542 - accuracy: 0.8874\n",
      "Epoch 3/5\n",
      "1875/1875 [==============================] - 26s 14ms/step - loss: 0.2324 - accuracy: 0.9280\n",
      "Epoch 4/5\n",
      "1875/1875 [==============================] - 26s 14ms/step - loss: 0.1832 - accuracy: 0.9441\n",
      "Epoch 5/5\n",
      "1875/1875 [==============================] - 27s 14ms/step - loss: 0.1604 - accuracy: 0.9505\n",
      "313/313 [==============================] - 2s 7ms/step - loss: 0.1480 - accuracy: 0.9556\n"
     ]
    }
   ],
   "source": [
    "model_lst = [model3]\n",
    "for i, model in enumerate(model_lst):\n",
    "    print('-'*20)\n",
    "    model.compile(optimizer='adam', loss='sparse_categorical_crossentropy', metrics=['accuracy'])\n",
    "    model.fit(x=x_train, y=y_train, epochs=5)\n",
    "    model.evaluate(x_test, y_test)"
   ]
  },
  {
   "cell_type": "code",
   "execution_count": null,
   "id": "dddadffb",
   "metadata": {},
   "outputs": [],
   "source": []
  }
 ],
 "metadata": {
  "kernelspec": {
   "display_name": "Python 3",
   "language": "python",
   "name": "python3"
  },
  "language_info": {
   "codemirror_mode": {
    "name": "ipython",
    "version": 3
   },
   "file_extension": ".py",
   "mimetype": "text/x-python",
   "name": "python",
   "nbconvert_exporter": "python",
   "pygments_lexer": "ipython3",
   "version": "3.7.0"
  }
 },
 "nbformat": 4,
 "nbformat_minor": 5
}
