{
 "cells": [
  {
   "cell_type": "code",
   "execution_count": 1,
   "id": "5d3a5880",
   "metadata": {},
   "outputs": [],
   "source": [
    "from tensorflow.keras.models import Sequential\n",
    "from tensorflow.keras.layers import Dense, Flatten, Conv2D, MaxPool2D\n",
    "from tensorflow.keras import datasets\n",
    "import tensorflow as tf\n",
    "from tensorflow.keras import Input\n",
    "from tensorflow.keras import Model\n",
    "\n",
    "(x_train, y_train), (x_test, y_test) = datasets.mnist.load_data()"
   ]
  },
  {
   "cell_type": "code",
   "execution_count": 2,
   "id": "6728a4ac",
   "metadata": {},
   "outputs": [],
   "source": [
    "# 卷积计算要求输入的图片必须是4个维度的，第0个维度表示一次喂入几个batch，第1、2、3个维度分别表示输入图片的分辨率和通道数。\n",
    "x_train=tf.expand_dims(x_train, -1) \n",
    "x_test=tf.expand_dims(x_test, -1)"
   ]
  },
  {
   "cell_type": "code",
   "execution_count": 3,
   "id": "f6745b30",
   "metadata": {},
   "outputs": [
    {
     "data": {
      "text/plain": [
       "TensorShape([60000, 28, 28, 1])"
      ]
     },
     "execution_count": 3,
     "metadata": {},
     "output_type": "execute_result"
    }
   ],
   "source": [
    "x_train.shape"
   ]
  },
  {
   "cell_type": "code",
   "execution_count": 15,
   "id": "46e01bf0",
   "metadata": {},
   "outputs": [],
   "source": [
    "model1 = Sequential([\n",
    "    Conv2D(32, kernel_size=(5, 5), activation='relu', input_shape=(28, 28, 1)),\n",
    "    MaxPool2D((2, 2), strides=2),\n",
    "    Conv2D(16, kernel_size=(5, 5), activation='relu'),\n",
    "    Flatten(),\n",
    "    Dense(32, 'relu'),\n",
    "    Dense(10, 'softmax')\n",
    "])"
   ]
  },
  {
   "cell_type": "code",
   "execution_count": 16,
   "id": "3806fc50",
   "metadata": {},
   "outputs": [],
   "source": [
    "inputss = Input(shape=(28, 28, 1))\n",
    "x = Conv2D(32, kernel_size=(5, 5), activation='relu')(inputss)\n",
    "x = MaxPool2D((2, 2), strides=2)(x)\n",
    "x = Conv2D(16, kernel_size=(5, 5), activation='relu')(x)\n",
    "x = Flatten()(x)\n",
    "x = Dense(32, 'relu')(x)\n",
    "outputs = Dense(10, 'softmax')(x)\n",
    "\n",
    "model2 = Model(inputs=inputss, outputs=outputs)"
   ]
  },
  {
   "cell_type": "code",
   "execution_count": 18,
   "id": "2aff1fc0",
   "metadata": {},
   "outputs": [],
   "source": [
    "class MnistCNN(tf.keras.Model):\n",
    "    def __init__(self):\n",
    "        super().__init__()\n",
    "        self.conv2d_1 = Conv2D(32, kernel_size=(5, 5), activation='relu')\n",
    "        self.maxpool2d = MaxPool2D((2, 2), strides=2)\n",
    "        self.conv2d_2 = Conv2D(16, kernel_size=(5, 5), activation='relu')\n",
    "        self.flatten = Flatten()\n",
    "        self.dense_1 = Dense(32, 'relu')\n",
    "        self.dense_2 = Dense(10, 'softmax')\n",
    "    \n",
    "    def call(self, inputs):\n",
    "        x = self.conv2d_1(inputs)\n",
    "        x = self.maxpool2d(x)\n",
    "        x = self.conv2d_2(x)\n",
    "        x = self.flatten(x)\n",
    "        x = self.dense_1(x)\n",
    "        x = self.dense_2(x)\n",
    "        return x\n",
    "    \n",
    "    \n",
    "model3 = MnistCNN()"
   ]
  },
  {
   "cell_type": "code",
   "execution_count": 21,
   "id": "56921c70",
   "metadata": {},
   "outputs": [],
   "source": [
    "# 使用 model subclassing 方法搭建网络后，提示不支持 unit8 的数据格式，需要进行类型转换才能正常运行。\n",
    "x_train = tf.cast(x_train,tf.float32)\n",
    "x_test = tf.cast(x_test,tf.float32)"
   ]
  },
  {
   "cell_type": "code",
   "execution_count": 22,
   "id": "72450b15",
   "metadata": {},
   "outputs": [
    {
     "name": "stdout",
     "output_type": "stream",
     "text": [
      "--------------------\n",
      "Epoch 1/5\n",
      "1875/1875 [==============================] - 37s 20ms/step - loss: 0.2823 - accuracy: 0.9249\n",
      "Epoch 2/5\n",
      "1875/1875 [==============================] - 36s 19ms/step - loss: 0.0794 - accuracy: 0.9762\n",
      "Epoch 3/5\n",
      "1875/1875 [==============================] - 35s 19ms/step - loss: 0.0639 - accuracy: 0.9811\n",
      "Epoch 4/5\n",
      "1875/1875 [==============================] - 35s 18ms/step - loss: 0.0542 - accuracy: 0.9839\n",
      "Epoch 5/5\n",
      "1875/1875 [==============================] - 36s 19ms/step - loss: 0.0480 - accuracy: 0.9857\n",
      "313/313 [==============================] - 2s 7ms/step - loss: 0.0739 - accuracy: 0.9797\n"
     ]
    }
   ],
   "source": [
    "model_lst = [model3]\n",
    "for i, model in enumerate(model_lst):\n",
    "    print('-'*20)\n",
    "    model.compile(optimizer='adam', loss='sparse_categorical_crossentropy', metrics=['accuracy'])\n",
    "    model.fit(x=x_train, y=y_train, epochs=5)\n",
    "    model.evaluate(x_test, y_test)"
   ]
  },
  {
   "cell_type": "code",
   "execution_count": null,
   "id": "a2e4506b",
   "metadata": {},
   "outputs": [],
   "source": []
  }
 ],
 "metadata": {
  "kernelspec": {
   "display_name": "tf2x",
   "language": "python",
   "name": "tf2x"
  },
  "language_info": {
   "codemirror_mode": {
    "name": "ipython",
    "version": 3
   },
   "file_extension": ".py",
   "mimetype": "text/x-python",
   "name": "python",
   "nbconvert_exporter": "python",
   "pygments_lexer": "ipython3",
   "version": "3.8.5"
  }
 },
 "nbformat": 4,
 "nbformat_minor": 5
}
