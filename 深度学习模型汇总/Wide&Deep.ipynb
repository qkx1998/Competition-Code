{
 "cells": [
  {
   "cell_type": "code",
   "execution_count": 1,
   "id": "87268a84",
   "metadata": {},
   "outputs": [],
   "source": [
    "from sklearn.datasets import load_breast_cancer\n",
    "import numpy as np\n",
    "import pandas as pd\n",
    "import tensorflow as tf\n",
    "import tensorflow.keras.backend as K\n",
    "from sklearn.preprocessing import MinMaxScaler\n",
    "from tensorflow.keras.callbacks import *\n",
    "from tensorflow.keras.initializers import *\n",
    "from tensorflow.keras.layers import *\n",
    "from tensorflow.keras.models import *\n",
    "from tensorflow.python.keras.layers import Layer\n",
    "from tensorflow.keras.utils import to_categorical\n",
    "from tensorflow.keras import datasets\n",
    "\n",
    "demo_data = load_breast_cancer()"
   ]
  },
  {
   "cell_type": "code",
   "execution_count": 3,
   "id": "690cca5f",
   "metadata": {},
   "outputs": [],
   "source": [
    "from sklearn.model_selection import train_test_split\n",
    "\n",
    "x_train_all, x_test, y_train_all, y_test = train_test_split(demo_data.data, demo_data.target, random_state = 7)\n",
    "\n",
    "x_train, x_valid, y_train, y_valid = train_test_split(x_train_all, y_train_all, random_state = 11)"
   ]
  },
  {
   "cell_type": "code",
   "execution_count": 4,
   "id": "e10bac68",
   "metadata": {},
   "outputs": [],
   "source": [
    "from sklearn.preprocessing import StandardScaler\n",
    "\n",
    "scaler = StandardScaler()\n",
    "x_train_scaled = scaler.fit_transform(x_train)\n",
    "x_valid_scaled = scaler.transform(x_valid)\n",
    "x_test_scaled = scaler.transform(x_test)"
   ]
  },
  {
   "cell_type": "markdown",
   "id": "f57b9d23",
   "metadata": {},
   "source": [
    "Functional API"
   ]
  },
  {
   "cell_type": "code",
   "execution_count": 7,
   "id": "5b0db7f4",
   "metadata": {},
   "outputs": [],
   "source": [
    "input_wide = tf.keras.layers.Input(shape=[15], name='input_wide')\n",
    "input_deep = tf.keras.layers.Input(shape=[15], name='input_deep')\n",
    "hidden1 = tf.keras.layers.Dense(30, activation='relu')(input_deep)\n",
    "hidden2 = tf.keras.layers.Dense(30, activation='relu')(hidden1)\n",
    "concat = tf.keras.layers.concatenate([input_wide, hidden2])\n",
    "output = tf.keras.layers.Dense(1, activation='sigmoid')(concat)\n",
    "\n",
    "model = tf.keras.models.Model(inputs = [input_wide, input_deep], outputs = [output])"
   ]
  },
  {
   "cell_type": "markdown",
   "id": "3f52341e",
   "metadata": {},
   "source": [
    "Model Subclassing"
   ]
  },
  {
   "cell_type": "code",
   "execution_count": 8,
   "id": "cf6ab599",
   "metadata": {},
   "outputs": [],
   "source": [
    "class WideDeepModel(tf.keras.models.Model):\n",
    "    def __init__(self, **kwargs):\n",
    "        super().__init__(**kwargs)\n",
    "        self.hidden1 = tf.keras.layers.Dense(30, activation='relu')\n",
    "        self.hidden2 = tf.keras.layers.Dense(30, activation='relu')\n",
    "        self.concat = tf.keras.layers.concatenate\n",
    "        self.dense = tf.keras.layers.Dense(1, activation='sigmoid')\n",
    "\n",
    "    def call(self, inputs):\n",
    "        input_wide, input_deep = inputs\n",
    "        output_deep = self.hidden1(input_deep)\n",
    "        output_deep = self.hidden2(output_deep)\n",
    "        concat_input = self.concat([input_wide, output_deep])\n",
    "        output = self.dense(concat_input)\n",
    "        return output"
   ]
  },
  {
   "cell_type": "code",
   "execution_count": 12,
   "id": "78128855",
   "metadata": {},
   "outputs": [],
   "source": [
    "model = WideDeepModel()"
   ]
  },
  {
   "cell_type": "code",
   "execution_count": 15,
   "id": "1d2b4d05",
   "metadata": {},
   "outputs": [],
   "source": [
    "# 单个loss\n",
    "model.compile(loss='binary_crossentropy', optimizer='adam', metrics=['accuracy'])\n",
    "callbacks = [tf.keras.callbacks.EarlyStopping(patience=5, min_delta=1e-2)]"
   ]
  },
  {
   "cell_type": "markdown",
   "id": "23919fe1",
   "metadata": {},
   "source": [
    "模型训练"
   ]
  },
  {
   "cell_type": "code",
   "execution_count": 16,
   "id": "6ed3fc69",
   "metadata": {},
   "outputs": [
    {
     "name": "stdout",
     "output_type": "stream",
     "text": [
      "Epoch 1/10\n",
      "10/10 [==============================] - 0s 41ms/step - loss: 0.5474 - accuracy: 0.7524 - val_loss: 0.4726 - val_accuracy: 0.8692\n",
      "Epoch 2/10\n",
      "10/10 [==============================] - 0s 6ms/step - loss: 0.4476 - accuracy: 0.8401 - val_loss: 0.3858 - val_accuracy: 0.9159\n",
      "Epoch 3/10\n",
      "10/10 [==============================] - 0s 6ms/step - loss: 0.3684 - accuracy: 0.8777 - val_loss: 0.3184 - val_accuracy: 0.9252\n",
      "Epoch 4/10\n",
      "10/10 [==============================] - 0s 6ms/step - loss: 0.3049 - accuracy: 0.9122 - val_loss: 0.2647 - val_accuracy: 0.9252\n",
      "Epoch 5/10\n",
      "10/10 [==============================] - 0s 5ms/step - loss: 0.2553 - accuracy: 0.9310 - val_loss: 0.2241 - val_accuracy: 0.9346\n",
      "Epoch 6/10\n",
      "10/10 [==============================] - 0s 5ms/step - loss: 0.2155 - accuracy: 0.9436 - val_loss: 0.1928 - val_accuracy: 0.9533\n",
      "Epoch 7/10\n",
      "10/10 [==============================] - 0s 5ms/step - loss: 0.1841 - accuracy: 0.9498 - val_loss: 0.1680 - val_accuracy: 0.9533\n",
      "Epoch 8/10\n",
      "10/10 [==============================] - 0s 5ms/step - loss: 0.1592 - accuracy: 0.9624 - val_loss: 0.1493 - val_accuracy: 0.9533\n",
      "Epoch 9/10\n",
      "10/10 [==============================] - 0s 6ms/step - loss: 0.1397 - accuracy: 0.9655 - val_loss: 0.1359 - val_accuracy: 0.9533\n",
      "Epoch 10/10\n",
      "10/10 [==============================] - 0s 5ms/step - loss: 0.1246 - accuracy: 0.9655 - val_loss: 0.1251 - val_accuracy: 0.9533\n"
     ]
    }
   ],
   "source": [
    "# 将训练集的前15列作为 wide 部分的输入，后15列作为 deep 部分的输入, 训练10轮\n",
    "x_train_scaled_wide = x_train_scaled[:, :15]\n",
    "x_train_scaled_deep = x_train_scaled[:, 15:]\n",
    "x_valid_scaled_wide = x_valid_scaled[:, :15]\n",
    "x_valid_scaled_deep = x_valid_scaled[:, 15:]\n",
    "x_test_scaled_wide = x_test_scaled[:, :15]\n",
    "x_test_scaled_deep = x_test_scaled[:, 15:]\n",
    "\n",
    "\n",
    "history = model.fit([x_train_scaled_wide, x_train_scaled_deep], y_train,\n",
    "                   validation_data=([x_valid_scaled_wide, x_valid_scaled_deep], y_valid),\n",
    "                   epochs=10)"
   ]
  },
  {
   "cell_type": "code",
   "execution_count": null,
   "id": "5801dcd9",
   "metadata": {},
   "outputs": [],
   "source": []
  },
  {
   "cell_type": "code",
   "execution_count": null,
   "id": "036b3f81",
   "metadata": {},
   "outputs": [],
   "source": []
  },
  {
   "cell_type": "code",
   "execution_count": null,
   "id": "8765273f",
   "metadata": {},
   "outputs": [],
   "source": []
  }
 ],
 "metadata": {
  "kernelspec": {
   "display_name": "Python 3",
   "language": "python",
   "name": "python3"
  },
  "language_info": {
   "codemirror_mode": {
    "name": "ipython",
    "version": 3
   },
   "file_extension": ".py",
   "mimetype": "text/x-python",
   "name": "python",
   "nbconvert_exporter": "python",
   "pygments_lexer": "ipython3",
   "version": "3.7.0"
  }
 },
 "nbformat": 4,
 "nbformat_minor": 5
}
