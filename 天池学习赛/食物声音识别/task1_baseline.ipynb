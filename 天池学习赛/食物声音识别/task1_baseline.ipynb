{
 "cells": [
  {
   "cell_type": "markdown",
   "metadata": {},
   "source": [
    "## 环境要求\n",
    "\n",
    "- TensorFlow的版本：2.0 + \n",
    "- keras\n",
    "- sklearn\n",
    "- librosa"
   ]
  },
  {
   "cell_type": "code",
   "execution_count": 1,
   "metadata": {},
   "outputs": [],
   "source": [
    "# 基本库\n",
    "\n",
    "import pandas as pd\n",
    "import numpy as np\n",
    "\n",
    "from sklearn.model_selection import train_test_split\n",
    "from sklearn.metrics import classification_report\n",
    "from sklearn.model_selection import GridSearchCV\n",
    "\n",
    "from sklearn.preprocessing import MinMaxScaler"
   ]
  },
  {
   "cell_type": "markdown",
   "metadata": {},
   "source": [
    "## 加载深度学习框架"
   ]
  },
  {
   "cell_type": "code",
   "execution_count": null,
   "metadata": {},
   "outputs": [],
   "source": [
    "# 搭建分类模型所需要的库\n",
    "\n",
    "from tensorflow.keras.models import Sequential\n",
    "from tensorflow.keras.layers import Conv2D, Flatten, Dense, MaxPool2D, Dropout\n",
    "from tensorflow.keras.utils import to_categorical \n",
    "\n",
    "from sklearn.ensemble import RandomForestClassifier\n",
    "from sklearn.svm import SVC"
   ]
  },
  {
   "cell_type": "markdown",
   "metadata": {},
   "source": [
    "## 加载音频处理库"
   ]
  },
  {
   "cell_type": "code",
   "execution_count": 7,
   "metadata": {
    "collapsed": true,
    "jupyter": {
     "outputs_hidden": true
    }
   },
   "outputs": [
    {
     "name": "stdout",
     "output_type": "stream",
     "text": [
      "Looking in indexes: https://mirrors.aliyun.com/pypi/simple\n",
      "Collecting librosa\n",
      "  Downloading https://mirrors.aliyun.com/pypi/packages/5b/da/bd63187b2ca1b97c04c270df90c934a97cbe512c8238ab65c89c1b043ae2/librosa-0.9.1-py3-none-any.whl (213 kB)\n",
      "\u001b[K     |████████████████████████████████| 213 kB 182 kB/s eta 0:00:01\n",
      "\u001b[?25hCollecting audioread>=2.1.5\n",
      "  Downloading https://mirrors.aliyun.com/pypi/packages/b3/d1/e324634c5867a668774d6fe233a83228da4ba16521e19059c15df899737d/audioread-2.1.9.tar.gz (377 kB)\n",
      "\u001b[K     |████████████████████████████████| 377 kB 185 kB/s eta 0:00:01\n",
      "\u001b[?25hRequirement already satisfied: decorator>=4.0.10 in /opt/conda/lib/python3.6/site-packages (from librosa) (4.4.2)\n",
      "Requirement already satisfied: scipy>=1.2.0 in /opt/conda/lib/python3.6/site-packages (from librosa) (1.5.4)\n",
      "Collecting numba>=0.45.1\n",
      "  Downloading https://mirrors.aliyun.com/pypi/packages/4a/c1/e7fdbfc886a9d9c11767533903db0d816c0f656fd6029f4a061742893694/numba-0.53.1-cp36-cp36m-manylinux2014_x86_64.whl (3.4 MB)\n",
      "\u001b[K     |████████████████████████████████| 3.4 MB 186 kB/s eta 0:00:01\n",
      "\u001b[?25hRequirement already satisfied: joblib>=0.14 in /opt/conda/lib/python3.6/site-packages (from librosa) (1.0.0)\n",
      "Collecting soundfile>=0.10.2\n",
      "  Downloading https://mirrors.aliyun.com/pypi/packages/eb/f2/3cbbbf3b96fb9fa91582c438b574cff3f45b29c772f94c400e2c99ef5db9/SoundFile-0.10.3.post1-py2.py3-none-any.whl (21 kB)\n",
      "Requirement already satisfied: numpy>=1.17.0 in /opt/conda/lib/python3.6/site-packages (from librosa) (1.19.4)\n",
      "Collecting pooch>=1.0\n",
      "  Downloading https://mirrors.aliyun.com/pypi/packages/8d/64/8e1bfeda3ba0f267b2d9a918e8ca51db8652d0e1a3412a5b3dbce85d90b6/pooch-1.6.0-py3-none-any.whl (56 kB)\n",
      "\u001b[K     |████████████████████████████████| 56 kB 186 kB/s eta 0:00:01\n",
      "\u001b[?25hRequirement already satisfied: packaging>=20.0 in /opt/conda/lib/python3.6/site-packages (from librosa) (20.8)\n",
      "Requirement already satisfied: scikit-learn>=0.19.1 in /opt/conda/lib/python3.6/site-packages (from librosa) (0.24.0)\n",
      "Collecting resampy>=0.2.2\n",
      "  Downloading https://mirrors.aliyun.com/pypi/packages/79/75/e22272b9c2185fc8f3af6ce37229708b45e8b855fd4bc38b4d6b040fff65/resampy-0.2.2.tar.gz (323 kB)\n",
      "\u001b[K     |████████████████████████████████| 323 kB 170 kB/s eta 0:00:01\n",
      "\u001b[?25hRequirement already satisfied: setuptools in /opt/conda/lib/python3.6/site-packages (from numba>=0.45.1->librosa) (51.1.1)\n",
      "Collecting llvmlite<0.37,>=0.36.0rc1\n",
      "  Downloading https://mirrors.aliyun.com/pypi/packages/4d/5a/707cc7e072d71bc19869d093e5cf9b7be98cb42d2398489465474d007ce8/llvmlite-0.36.0-cp36-cp36m-manylinux2010_x86_64.whl (25.3 MB)\n",
      "\u001b[K     |████████████████████████████████| 25.3 MB 192 kB/s eta 0:00:01\n",
      "\u001b[?25hRequirement already satisfied: pyparsing>=2.0.2 in /opt/conda/lib/python3.6/site-packages (from packaging>=20.0->librosa) (2.4.7)\n",
      "Collecting appdirs>=1.3.0\n",
      "  Downloading https://mirrors.aliyun.com/pypi/packages/3b/00/2344469e2084fb287c2e0b57b72910309874c3245463acd6cf5e3db69324/appdirs-1.4.4-py2.py3-none-any.whl (9.6 kB)\n",
      "Requirement already satisfied: requests>=2.19.0 in /opt/conda/lib/python3.6/site-packages (from pooch>=1.0->librosa) (2.25.1)\n",
      "Requirement already satisfied: chardet<5,>=3.0.2 in /opt/conda/lib/python3.6/site-packages (from requests>=2.19.0->pooch>=1.0->librosa) (4.0.0)\n",
      "Requirement already satisfied: certifi>=2017.4.17 in /opt/conda/lib/python3.6/site-packages (from requests>=2.19.0->pooch>=1.0->librosa) (2020.12.5)\n",
      "Requirement already satisfied: urllib3<1.27,>=1.21.1 in /opt/conda/lib/python3.6/site-packages (from requests>=2.19.0->pooch>=1.0->librosa) (1.26.2)\n",
      "Requirement already satisfied: idna<3,>=2.5 in /opt/conda/lib/python3.6/site-packages (from requests>=2.19.0->pooch>=1.0->librosa) (2.10)\n",
      "Requirement already satisfied: six>=1.3 in /opt/conda/lib/python3.6/site-packages (from resampy>=0.2.2->librosa) (1.15.0)\n",
      "Requirement already satisfied: threadpoolctl>=2.0.0 in /opt/conda/lib/python3.6/site-packages (from scikit-learn>=0.19.1->librosa) (2.1.0)\n",
      "Requirement already satisfied: cffi>=1.0 in /opt/conda/lib/python3.6/site-packages (from soundfile>=0.10.2->librosa) (1.14.4)\n",
      "Requirement already satisfied: pycparser in /opt/conda/lib/python3.6/site-packages (from cffi>=1.0->soundfile>=0.10.2->librosa) (2.20)\n",
      "Building wheels for collected packages: audioread, resampy\n",
      "  Building wheel for audioread (setup.py) ... \u001b[?25ldone\n",
      "\u001b[?25h  Created wheel for audioread: filename=audioread-2.1.9-py3-none-any.whl size=23141 sha256=38eef06ec5b63502f8aa9d9db7ad07ed32e23c2ed0752a7ddb2cfac18ead0f83\n",
      "  Stored in directory: /home/admin/.cache/pip/wheels/ed/45/01/f5cb442bb82226a14111f47d92918c29d5375aa2b68dad31e5\n",
      "  Building wheel for resampy (setup.py) ... \u001b[?25ldone\n",
      "\u001b[?25h  Created wheel for resampy: filename=resampy-0.2.2-py3-none-any.whl size=320718 sha256=b36992552849d586ac6924845b22ab7b0a4f8570e70f6c619c025ff357af4810\n",
      "  Stored in directory: /home/admin/.cache/pip/wheels/ec/fa/88/6c3015728966b48e44ad4f1d2260e05f5ef5a8b0d80d1098f1\n",
      "Successfully built audioread resampy\n",
      "Installing collected packages: llvmlite, numba, appdirs, soundfile, resampy, pooch, audioread, librosa\n",
      "Successfully installed appdirs-1.4.4 audioread-2.1.9 librosa-0.9.1 llvmlite-0.36.0 numba-0.53.1 pooch-1.6.0 resampy-0.2.2 soundfile-0.10.3.post1\n",
      "\u001b[33mWARNING: You are using pip version 21.0.1; however, version 21.3.1 is available.\n",
      "You should consider upgrading via the '/opt/conda/bin/python -m pip install --upgrade pip' command.\u001b[0m\n"
     ]
    }
   ],
   "source": [
    "!pip install librosa --user"
   ]
  },
  {
   "cell_type": "code",
   "execution_count": 3,
   "metadata": {},
   "outputs": [],
   "source": [
    "# 其他库\n",
    "\n",
    "import os\n",
    "import librosa\n",
    "import librosa.display\n",
    "import glob "
   ]
  },
  {
   "cell_type": "markdown",
   "metadata": {},
   "source": [
    "## 特征提取以及数据集的建立"
   ]
  },
  {
   "cell_type": "code",
   "execution_count": 4,
   "metadata": {},
   "outputs": [],
   "source": [
    "feature = []\n",
    "label = []\n",
    "# 建立类别标签，不同类别对应不同的数字。\n",
    "label_dict = {'aloe': 0, 'burger': 1, 'cabbage': 2,'candied_fruits':3, 'carrots': 4, 'chips':5,\n",
    "                  'chocolate': 6, 'drinks': 7, 'fries': 8, 'grapes': 9, 'gummies': 10, 'ice-cream':11,\n",
    "                  'jelly': 12, 'noodles': 13, 'pickles': 14, 'pizza': 15, 'ribs': 16, 'salmon':17,\n",
    "                  'soup': 18, 'wings': 19}\n",
    "label_dict_inv = {v:k for k,v in label_dict.items()}"
   ]
  },
  {
   "cell_type": "code",
   "execution_count": 5,
   "metadata": {},
   "outputs": [
    {
     "data": {
      "text/plain": [
       "'./train_sample/aloe/*.wav'"
      ]
     },
     "execution_count": 5,
     "metadata": {},
     "output_type": "execute_result"
    }
   ],
   "source": [
    "# glob模块可以查找符合特定规则的文件路径名。\n",
    "parent_dir = './train_sample/'\n",
    "sub_dir = \"aloe\"\n",
    "file_ext = \"*.wav\"\n",
    "os.path.join(parent_dir, sub_dir, file_ext)"
   ]
  },
  {
   "cell_type": "code",
   "execution_count": 6,
   "metadata": {},
   "outputs": [
    {
     "data": {
      "text/plain": [
       "['./train_sample/aloe/24EJ22XBZ5.wav',\n",
       " './train_sample/aloe/2KZFB8S8ZH.wav',\n",
       " './train_sample/aloe/4EDPONVXHL.wav',\n",
       " './train_sample/aloe/9634XOIM1L.wav',\n",
       " './train_sample/aloe/B3D7HM4M22.wav']"
      ]
     },
     "execution_count": 6,
     "metadata": {},
     "output_type": "execute_result"
    }
   ],
   "source": [
    "# aloe文件夹下代表了所有食物为aloe的声音文件\n",
    "\n",
    "glob.glob(os.path.join(parent_dir, sub_dir, file_ext))[:5]"
   ]
  },
  {
   "cell_type": "code",
   "execution_count": 7,
   "metadata": {},
   "outputs": [],
   "source": [
    "#读取单文件示例\n",
    "'''\n",
    "X : 音频的信号值，类型是ndarray\n",
    "sample_rate : 采样率\n",
    "'''\n",
    "X, sample_rate = librosa.load('./train_sample/aloe/24EJ22XBZ5.wav', res_type='kaiser_fast')"
   ]
  },
  {
   "cell_type": "code",
   "execution_count": 8,
   "metadata": {},
   "outputs": [
    {
     "data": {
      "text/plain": [
       "array([ 0.00217551, -0.01149546, -0.02177233, ..., -0.01755694,\n",
       "       -0.01340434, -0.01044544], dtype=float32)"
      ]
     },
     "execution_count": 8,
     "metadata": {},
     "output_type": "execute_result"
    }
   ],
   "source": [
    "X"
   ]
  },
  {
   "cell_type": "code",
   "execution_count": 11,
   "metadata": {},
   "outputs": [
    {
     "data": {
      "text/plain": [
       "71661"
      ]
     },
     "execution_count": 11,
     "metadata": {},
     "output_type": "execute_result"
    }
   ],
   "source": [
    "len(X)"
   ]
  },
  {
   "cell_type": "code",
   "execution_count": 9,
   "metadata": {},
   "outputs": [
    {
     "data": {
      "text/plain": [
       "22050"
      ]
     },
     "execution_count": 9,
     "metadata": {},
     "output_type": "execute_result"
    }
   ],
   "source": [
    "sample_rate"
   ]
  },
  {
   "cell_type": "code",
   "execution_count": 12,
   "metadata": {},
   "outputs": [],
   "source": [
    "from tqdm import tqdm\n",
    "def extract_features(parent_dir, sub_dirs, max_file=10, file_ext=\"*.wav\"):\n",
    "    c = 0\n",
    "    label, feature = [], []\n",
    "    for sub_dir in sub_dirs:\n",
    "        for fn in tqdm(glob.glob(os.path.join(parent_dir, sub_dir, file_ext))[:max_file]): # 遍历数据集的所有文件\n",
    "            \n",
    "            label_name = fn.split('/')[-2]\n",
    "            label.extend([label_dict[label_name]])\n",
    "            \n",
    "            # 使用librosa读取wav格式文件\n",
    "            X, sample_rate = librosa.load(fn, res_type='kaiser_fast')\n",
    "            \n",
    "            mels = np.mean(librosa.feature.melspectrogram(y=X,sr=sample_rate).T,axis=0) # 计算梅尔频谱(mel spectrogram),并把它作为特征\n",
    "            \n",
    "            feature.extend([mels])\n",
    "            \n",
    "    return [feature, label]"
   ]
  },
  {
   "cell_type": "code",
   "execution_count": 13,
   "metadata": {},
   "outputs": [
    {
     "name": "stderr",
     "output_type": "stream",
     "text": [
      "100%|██████████| 45/45 [00:08<00:00,  6.07it/s]\n",
      "100%|██████████| 64/64 [00:12<00:00,  5.57it/s]\n",
      "100%|██████████| 48/48 [00:09<00:00,  4.74it/s]\n",
      "100%|██████████| 74/74 [00:15<00:00,  3.57it/s]\n",
      "100%|██████████| 49/49 [00:09<00:00,  5.05it/s]\n",
      "100%|██████████| 57/57 [00:11<00:00,  5.04it/s]\n",
      "100%|██████████| 27/27 [00:05<00:00,  4.95it/s]\n",
      "100%|██████████| 27/27 [00:05<00:00,  4.96it/s]\n",
      "100%|██████████| 57/57 [00:11<00:00,  4.91it/s]\n",
      "100%|██████████| 61/61 [00:12<00:00,  4.91it/s]\n",
      "100%|██████████| 69/69 [00:13<00:00,  4.81it/s]\n",
      "100%|██████████| 43/43 [00:08<00:00,  5.06it/s]\n",
      "100%|██████████| 33/33 [00:06<00:00,  4.93it/s]\n",
      "100%|██████████| 75/75 [00:15<00:00,  4.95it/s]\n",
      "100%|██████████| 55/55 [00:11<00:00,  4.73it/s]\n",
      "100%|██████████| 47/47 [00:09<00:00,  5.06it/s]\n",
      "100%|██████████| 37/37 [00:07<00:00,  5.08it/s]\n",
      "100%|██████████| 32/32 [00:05<00:00,  5.03it/s]\n",
      "100%|██████████| 35/35 [00:07<00:00,  5.21it/s]\n"
     ]
    }
   ],
   "source": [
    "# 自己更改目录\n",
    "parent_dir = './train_sample/'\n",
    "save_dir = \"./\"\n",
    "\n",
    "folds = sub_dirs = np.array(['aloe','burger','cabbage','candied_fruits',\n",
    "                             'carrots','chips','chocolate','drinks','fries',\n",
    "                            'grapes','gummies','ice-cream','jelly','noodles','pickles',\n",
    "                            'pizza','ribs','salmon','soup','wings'])\n",
    "\n",
    "# 获取特征feature以及类别的label\n",
    "temp = extract_features(parent_dir, sub_dirs, max_file=100)"
   ]
  },
  {
   "cell_type": "code",
   "execution_count": null,
   "metadata": {},
   "outputs": [
    {
     "name": "stderr",
     "output_type": "stream",
     "text": [
      "/opt/conda/lib/python3.6/site-packages/ipykernel_launcher.py:1: VisibleDeprecationWarning: Creating an ndarray from ragged nested sequences (which is a list-or-tuple of lists-or-tuples-or ndarrays with different lengths or shapes) is deprecated. If you meant to do this, you must specify 'dtype=object' when creating the ndarray\n",
      "  \"\"\"Entry point for launching an IPython kernel.\n"
     ]
    }
   ],
   "source": [
    "temp = np.array(temp)\n",
    "data = temp.transpose()"
   ]
  },
  {
   "cell_type": "code",
   "execution_count": 17,
   "metadata": {},
   "outputs": [
    {
     "data": {
      "text/plain": [
       "array([array([9.55628872e+00, 8.91002178e+00, 5.43598080e+00, 3.29708529e+00,\n",
       "       2.37345934e+00, 1.90455341e+00, 1.80879819e+00, 1.68337762e+00,\n",
       "       3.03310204e+00, 5.18077660e+00, 7.56116772e+00, 7.96967268e+00,\n",
       "       6.85043240e+00, 3.17706203e+00, 1.45846856e+00, 9.95601535e-01,\n",
       "       1.01416063e+00, 9.00417864e-01, 7.27246523e-01, 6.79472983e-01,\n",
       "       8.07720423e-01, 5.92221320e-01, 4.79039162e-01, 4.19901192e-01,\n",
       "       4.00979280e-01, 3.04575920e-01, 3.08832645e-01, 6.98438048e-01,\n",
       "       5.78885019e-01, 4.85829115e-01, 4.84552830e-01, 4.75085944e-01,\n",
       "       4.28770155e-01, 3.27101856e-01, 3.58252019e-01, 3.85662675e-01,\n",
       "       6.74188733e-01, 1.10357356e+00, 1.87173676e+00, 2.92070651e+00,\n",
       "       2.26331949e+00, 3.13808155e+00, 3.33568430e+00, 1.90762460e+00,\n",
       "       1.96067417e+00, 2.06479001e+00, 1.98696399e+00, 1.58567047e+00,\n",
       "       1.01973081e+00, 7.48169184e-01, 3.92181695e-01, 3.56813818e-01,\n",
       "       2.80595899e-01, 2.04729810e-01, 1.90995812e-01, 1.99260846e-01,\n",
       "       2.89779752e-01, 2.66174406e-01, 2.01659799e-01, 2.06299379e-01,\n",
       "       1.63422793e-01, 2.05670565e-01, 1.72108263e-01, 1.85291946e-01,\n",
       "       1.14002027e-01, 9.25834104e-02, 6.86227754e-02, 7.57506788e-02,\n",
       "       7.50532523e-02, 6.57534450e-02, 5.89257926e-02, 4.83082645e-02,\n",
       "       2.35553905e-02, 1.67978574e-02, 1.87215712e-02, 2.38939635e-02,\n",
       "       4.08416800e-02, 4.82639372e-02, 3.14052515e-02, 2.09015962e-02,\n",
       "       2.04597339e-02, 2.01957971e-02, 1.61818974e-02, 1.52633330e-02,\n",
       "       1.26635125e-02, 1.24027478e-02, 1.25825759e-02, 1.31170144e-02,\n",
       "       1.40582100e-02, 1.28639396e-02, 9.53221507e-03, 1.19750891e-02,\n",
       "       1.71823632e-02, 2.93130260e-02, 4.28229645e-02, 3.23235467e-02,\n",
       "       1.91723052e-02, 1.81126297e-02, 1.57092586e-02, 1.33102685e-02,\n",
       "       1.22128380e-02, 5.54300286e-03, 4.45681252e-03, 4.63179499e-03,\n",
       "       4.60633310e-03, 4.43342933e-03, 6.14904752e-03, 9.01287142e-03,\n",
       "       1.44553734e-02, 2.10991390e-02, 1.81303062e-02, 1.28326602e-02,\n",
       "       1.21195409e-02, 1.75646823e-02, 2.46727299e-02, 2.40892619e-02,\n",
       "       1.34320650e-02, 1.12473713e-02, 5.59257856e-03, 2.10131588e-03,\n",
       "       1.12350786e-03, 7.92048348e-04, 5.45229123e-04, 2.75712810e-04,\n",
       "       9.56668446e-05, 2.21845130e-05, 2.98115242e-06, 3.48685205e-07],\n",
       "      dtype=float32),\n",
       "       0], dtype=object)"
      ]
     },
     "execution_count": 17,
     "metadata": {},
     "output_type": "execute_result"
    }
   ],
   "source": [
    "data[0]"
   ]
  },
  {
   "cell_type": "code",
   "execution_count": 18,
   "metadata": {},
   "outputs": [
    {
     "name": "stdout",
     "output_type": "stream",
     "text": [
      "X的特征尺寸是： (1000, 128)\n",
      "Y的特征尺寸是： (1000,)\n"
     ]
    }
   ],
   "source": [
    "# 获取特征\n",
    "X = np.vstack(data[:, 0])\n",
    "\n",
    "# 获取标签\n",
    "Y = np.array(data[:, 1])\n",
    "print('X的特征尺寸是：',X.shape)\n",
    "print('Y的特征尺寸是：',Y.shape)"
   ]
  },
  {
   "cell_type": "code",
   "execution_count": 19,
   "metadata": {},
   "outputs": [],
   "source": [
    "# 在Keras库中：to_categorical就是将类别向量转换为二进制（只有0和1）的矩阵类型表示\n",
    "Y = to_categorical(Y)"
   ]
  },
  {
   "cell_type": "code",
   "execution_count": 20,
   "metadata": {},
   "outputs": [
    {
     "name": "stdout",
     "output_type": "stream",
     "text": [
      "(1000, 128)\n",
      "(1000, 20)\n"
     ]
    }
   ],
   "source": [
    "'''最终数据'''\n",
    "print(X.shape)\n",
    "print(Y.shape)"
   ]
  },
  {
   "cell_type": "code",
   "execution_count": 21,
   "metadata": {},
   "outputs": [
    {
     "name": "stdout",
     "output_type": "stream",
     "text": [
      "训练集的大小 750\n",
      "测试集的大小 250\n"
     ]
    }
   ],
   "source": [
    "X_train, X_test, Y_train, Y_test = train_test_split(X, Y, random_state = 1, stratify=Y)\n",
    "print('训练集的大小',len(X_train))\n",
    "print('测试集的大小',len(X_test))"
   ]
  },
  {
   "cell_type": "code",
   "execution_count": 22,
   "metadata": {},
   "outputs": [],
   "source": [
    "'''\n",
    "关于输入的选择，您可以使用语谱图输入(2D)或原始语音信号(1D)作为输入。\n",
    "对于语谱图输入，您必须使用2D CNN，而对于原始语音信号，您可以使用1D CNN。\n",
    "Mel谱图通常比线性谱图更受欢迎，因为我们的耳朵听到的频率是对数尺度的，而不是线性的。\n",
    "\n",
    "'''\n",
    "\n",
    "X_train = X_train.reshape(-1, 16, 8, 1)\n",
    "X_test = X_test.reshape(-1, 16, 8, 1)"
   ]
  },
  {
   "cell_type": "markdown",
   "metadata": {},
   "source": [
    "## 建立模型"
   ]
  },
  {
   "cell_type": "markdown",
   "metadata": {},
   "source": [
    "### 搭建CNN网络"
   ]
  },
  {
   "cell_type": "code",
   "execution_count": 23,
   "metadata": {},
   "outputs": [],
   "source": [
    "model = Sequential()\n",
    "\n",
    "# 输入的大小\n",
    "input_dim = (16, 8, 1)\n",
    "\n",
    "model.add(Conv2D(64, (3, 3), padding = \"same\", activation = \"tanh\", input_shape = input_dim))# 卷积层\n",
    "model.add(MaxPool2D(pool_size=(2, 2)))# 最大池化\n",
    "model.add(Conv2D(128, (3, 3), padding = \"same\", activation = \"tanh\")) #卷积层\n",
    "model.add(MaxPool2D(pool_size=(2, 2))) # 最大池化层\n",
    "model.add(Dropout(0.1))\n",
    "model.add(Flatten()) # 展开\n",
    "model.add(Dense(1024, activation = \"tanh\"))\n",
    "model.add(Dense(20, activation = \"softmax\")) # 输出层：20个units输出20个类的概率\n",
    "\n",
    "# 编译模型，设置损失函数，优化方法以及评价标准\n",
    "model.compile(optimizer = 'adam', loss = 'categorical_crossentropy', metrics = ['accuracy'])"
   ]
  },
  {
   "cell_type": "code",
   "execution_count": 24,
   "metadata": {},
   "outputs": [
    {
     "name": "stdout",
     "output_type": "stream",
     "text": [
      "Epoch 1/20\n",
      "50/50 [==============================] - 3s 58ms/step - loss: 2.9994 - accuracy: 0.0887 - val_loss: 2.7905 - val_accuracy: 0.1800\n",
      "Epoch 2/20\n",
      "50/50 [==============================] - 3s 59ms/step - loss: 2.5569 - accuracy: 0.2030 - val_loss: 2.5647 - val_accuracy: 0.2160\n",
      "Epoch 3/20\n",
      "50/50 [==============================] - 3s 60ms/step - loss: 2.2742 - accuracy: 0.2873 - val_loss: 2.4674 - val_accuracy: 0.2680\n",
      "Epoch 4/20\n",
      "50/50 [==============================] - 3s 64ms/step - loss: 1.9957 - accuracy: 0.3937 - val_loss: 2.4836 - val_accuracy: 0.2560\n",
      "Epoch 5/20\n",
      "50/50 [==============================] - 3s 66ms/step - loss: 1.8979 - accuracy: 0.4112 - val_loss: 2.4241 - val_accuracy: 0.2880\n",
      "Epoch 6/20\n",
      "50/50 [==============================] - 3s 64ms/step - loss: 1.7388 - accuracy: 0.4630 - val_loss: 2.4312 - val_accuracy: 0.3040\n",
      "Epoch 7/20\n",
      "50/50 [==============================] - 3s 69ms/step - loss: 1.6102 - accuracy: 0.4995 - val_loss: 2.4741 - val_accuracy: 0.3120\n",
      "Epoch 8/20\n",
      "50/50 [==============================] - 5s 105ms/step - loss: 1.4283 - accuracy: 0.5609 - val_loss: 2.4685 - val_accuracy: 0.3320\n",
      "Epoch 9/20\n",
      "50/50 [==============================] - 4s 72ms/step - loss: 1.2726 - accuracy: 0.5874 - val_loss: 2.5798 - val_accuracy: 0.3400\n",
      "Epoch 10/20\n",
      "50/50 [==============================] - 3s 67ms/step - loss: 1.0565 - accuracy: 0.6969 - val_loss: 3.0256 - val_accuracy: 0.2720\n",
      "Epoch 11/20\n",
      "50/50 [==============================] - 4s 86ms/step - loss: 1.0602 - accuracy: 0.6688 - val_loss: 2.9107 - val_accuracy: 0.2920\n",
      "Epoch 12/20\n",
      "50/50 [==============================] - 5s 104ms/step - loss: 0.9417 - accuracy: 0.7124 - val_loss: 2.9416 - val_accuracy: 0.3280\n",
      "Epoch 13/20\n",
      "50/50 [==============================] - 5s 112ms/step - loss: 0.8098 - accuracy: 0.7505 - val_loss: 3.0567 - val_accuracy: 0.3120\n",
      "Epoch 14/20\n",
      "50/50 [==============================] - 6s 113ms/step - loss: 0.7661 - accuracy: 0.7753 - val_loss: 3.0379 - val_accuracy: 0.3560\n",
      "Epoch 15/20\n",
      "50/50 [==============================] - 5s 96ms/step - loss: 0.6338 - accuracy: 0.8123 - val_loss: 3.2454 - val_accuracy: 0.3320\n",
      "Epoch 16/20\n",
      "50/50 [==============================] - 5s 96ms/step - loss: 0.5680 - accuracy: 0.8445 - val_loss: 3.4202 - val_accuracy: 0.3120\n",
      "Epoch 17/20\n",
      "50/50 [==============================] - 5s 98ms/step - loss: 0.5840 - accuracy: 0.8413 - val_loss: 3.3803 - val_accuracy: 0.3720\n",
      "Epoch 18/20\n",
      "50/50 [==============================] - 6s 109ms/step - loss: 0.4733 - accuracy: 0.8764 - val_loss: 3.6196 - val_accuracy: 0.3400\n",
      "Epoch 19/20\n",
      "50/50 [==============================] - 4s 84ms/step - loss: 0.5263 - accuracy: 0.8704 - val_loss: 3.5514 - val_accuracy: 0.3880\n",
      "Epoch 20/20\n",
      "50/50 [==============================] - 4s 76ms/step - loss: 0.4218 - accuracy: 0.8738 - val_loss: 3.8771 - val_accuracy: 0.3680\n"
     ]
    },
    {
     "data": {
      "text/plain": [
       "<tensorflow.python.keras.callbacks.History at 0x7f330114b128>"
      ]
     },
     "execution_count": 24,
     "metadata": {},
     "output_type": "execute_result"
    }
   ],
   "source": [
    "# 训练模型\n",
    "model.fit(X_train, Y_train, epochs = 20, batch_size = 15, validation_data = (X_test, Y_test))"
   ]
  },
  {
   "cell_type": "markdown",
   "metadata": {},
   "source": [
    "### 预测测试集"
   ]
  },
  {
   "cell_type": "code",
   "execution_count": 25,
   "metadata": {},
   "outputs": [],
   "source": [
    "def extract_features(test_dir, file_ext=\"*.wav\"):\n",
    "    feature = []\n",
    "    for fn in tqdm(glob.glob(os.path.join(test_dir, file_ext))[:]): # 遍历数据集的所有文件\n",
    "        X, sample_rate = librosa.load(fn,res_type='kaiser_fast')\n",
    "        mels = np.mean(librosa.feature.melspectrogram(y=X,sr=sample_rate).T,axis=0) # 计算梅尔频谱(mel spectrogram),并把它作为特征\n",
    "        feature.extend([mels])\n",
    "    return feature"
   ]
  },
  {
   "cell_type": "code",
   "execution_count": null,
   "metadata": {},
   "outputs": [
    {
     "name": "stderr",
     "output_type": "stream",
     "text": [
      " 91%|█████████▏| 1826/2000 [06:02<00:33,  5.14it/s]"
     ]
    }
   ],
   "source": [
    "X_test = extract_features('./test_a/')"
   ]
  },
  {
   "cell_type": "code",
   "execution_count": null,
   "metadata": {},
   "outputs": [],
   "source": [
    "X_test = np.vstack(X_test)\n",
    "predictions = model.predict(X_test.reshape(-1, 16, 8, 1))"
   ]
  },
  {
   "cell_type": "code",
   "execution_count": null,
   "metadata": {},
   "outputs": [],
   "source": [
    "preds = np.argmax(predictions, axis = 1)\n",
    "preds = [label_dict_inv[x] for x in preds]\n",
    "\n",
    "path = glob.glob('./test_a/*.wav')\n",
    "result = pd.DataFrame({'name':path, 'label': preds})\n",
    "\n",
    "result['name'] = result['name'].apply(lambda x: x.split('/')[-1])\n",
    "result.to_csv('submit.csv',index=None)"
   ]
  },
  {
   "cell_type": "code",
   "execution_count": null,
   "metadata": {},
   "outputs": [],
   "source": []
  }
 ],
 "metadata": {
  "kernelspec": {
   "display_name": "Python 3",
   "language": "python",
   "name": "python3"
  },
  "language_info": {
   "codemirror_mode": {
    "name": "ipython",
    "version": 3
   },
   "file_extension": ".py",
   "mimetype": "text/x-python",
   "name": "python",
   "nbconvert_exporter": "python",
   "pygments_lexer": "ipython3",
   "version": "3.7.0"
  },
  "tianchi_metadata": {
   "competitions": [],
   "datasets": [],
   "description": "",
   "notebookId": "348565",
   "source": "dsw"
  }
 },
 "nbformat": 4,
 "nbformat_minor": 4
}
